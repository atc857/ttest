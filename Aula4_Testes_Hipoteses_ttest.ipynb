{
  "nbformat": 4,
  "nbformat_minor": 0,
  "metadata": {
    "colab": {
      "provenance": [],
      "toc_visible": true,
      "authorship_tag": "ABX9TyM4yZ0lsyFSNHTf6gOF6Xn/",
      "include_colab_link": true
    },
    "kernelspec": {
      "name": "python3",
      "display_name": "Python 3"
    },
    "language_info": {
      "name": "python"
    }
  },
  "cells": [
    {
      "cell_type": "markdown",
      "metadata": {
        "id": "view-in-github",
        "colab_type": "text"
      },
      "source": [
        "<a href=\"https://colab.research.google.com/github/atc857/ttest/blob/main/Aula4_Testes_Hipoteses_ttest.ipynb\" target=\"_parent\"><img src=\"https://colab.research.google.com/assets/colab-badge.svg\" alt=\"Open In Colab\"/></a>"
      ]
    },
    {
      "cell_type": "markdown",
      "source": [
        "# Testes de hipóteses utilizando Python\n",
        "\n",
        "Disciplina: Metodologia Científica 2 (Métodos Quantitativos)\n",
        "\n",
        "por André T. Campos"
      ],
      "metadata": {
        "id": "sUCHUjMqXm-A"
      }
    },
    {
      "cell_type": "markdown",
      "source": [
        "O pacote `SciPy` possui ferramentas dedicadas à resolução de problemas típicos de computação científica. Nesta aula utilizaremos especificamente o módulo `stats`, que possui uma vasta gama de funcionalidades para lidar com conceitos estatísticos fundamentais. Para maiores informações sobre as funcionalidades disponíveis, consulte a documentação no link https://docs.scipy.org/doc/scipy/reference/stats.html.\n",
        "\n",
        "![SciPy logo](https://www.fullstackpython.com/img/logos/scipy.png)"
      ],
      "metadata": {
        "id": "7HzIie353WNc"
      }
    },
    {
      "cell_type": "code",
      "source": [
        "# Atualização da biblioteca scipy para a versão mais recente disponível.\n",
        "# Google Colab já vem com a biblioteca instalada, porém, pode não ser a versão mais recente. Portanto, é recomendável atualizar.\n",
        "!pip install --upgrade scipy"
      ],
      "metadata": {
        "id": "JQd0GZ7nq0xS"
      },
      "execution_count": null,
      "outputs": []
    },
    {
      "cell_type": "code",
      "execution_count": null,
      "metadata": {
        "id": "kLN1-r35XSVc"
      },
      "outputs": [],
      "source": [
        "# Importação das bibliotecas necessárias\n",
        "from scipy import stats\n",
        "from scipy import optimize\n",
        "import pandas as pd\n",
        "import numpy as np\n",
        "import matplotlib.pyplot as plt\n",
        "import seaborn as sns"
      ]
    },
    {
      "cell_type": "code",
      "source": [
        "# Configuração do estilo dos gráficos\n",
        "sns.set(style='ticks')"
      ],
      "metadata": {
        "id": "FJgl1o1VXb1-"
      },
      "execution_count": null,
      "outputs": []
    },
    {
      "cell_type": "code",
      "source": [
        "# Definição de semente para os números aleatórios (reprodutibilidade)\n",
        "np.random.seed(6)"
      ],
      "metadata": {
        "id": "ld-uHsZKYrBG"
      },
      "execution_count": null,
      "outputs": []
    },
    {
      "cell_type": "markdown",
      "source": [
        "# Teste-t para uma amostra\n",
        "\n",
        "O objetivo deste teste é verificar se a amostra sob análise provém de uma população com a média informada.\n",
        "\n",
        "Suposições:\n",
        "*   A população da qual a amostra foi extraída é normal. Essa exigência pode ser relaxada, pelo teorema central do limite, para amostras de tamanho \\\\( n \\geq 30 \\\\) .\n",
        "*   Se a variância da população é conhecida, utiliza-se o *teste-z*. Se a variância é desconhecida, utiliza-se o *teste-t*. Normalmente o segundo caso é o mais comum.\n"
      ],
      "metadata": {
        "id": "BLwJ47Z7KX9Z"
      }
    },
    {
      "cell_type": "markdown",
      "source": [
        "---\n",
        "\n",
        "**Ex. 1)** Desejamos avaliar se uma amostra fornecida de \\\\(n=40\\\\) pneus (`X_samples`) tem média de durabilidade \\\\( \\mu_0 = 60000 \\\\) quilômetros.\n"
      ],
      "metadata": {
        "id": "sgH4cThiEMzX"
      }
    },
    {
      "cell_type": "markdown",
      "source": [
        "*   A estatística teste é dada por \\\\[ t = \\frac{\\bar{x} - \\mu_0}{s / \\sqrt{n} } \\\\]\n",
        "*   Hipótese nula: \\\\( H_0: \\mu = \\mu_0 \\\\)\n",
        "*   Hipótese alternativa: \\\\( H_1: \\mu \\neq \\mu_0 \\\\)"
      ],
      "metadata": {
        "id": "MNr75EjwQgQ7"
      }
    },
    {
      "cell_type": "code",
      "source": [
        "# Gera uma amostra aleatória de n elementos a partir de população normal com média mu e desvio-padrão sigma\n",
        "mu, sigma = 55000, 10000\n",
        "X = stats.norm(mu, sigma)\n",
        "n = 40\n",
        "X_samples = X.rvs(n) \n",
        "\n",
        "# Plota o histograma da amostra\n",
        "plt.hist(X_samples, density=True, bins=20)\n",
        "plt.title('Histograma')\n",
        "plt.show()\n",
        "\n",
        "# Mostra os valores da amostra\n",
        "print(X_samples)"
      ],
      "metadata": {
        "id": "_ZluvOD_bqTf"
      },
      "execution_count": null,
      "outputs": []
    },
    {
      "cell_type": "markdown",
      "source": [
        "Usando o módulo `stats`, basta chamar o comando `scipy.stats.ttest_1samp(a, popmean, alternative='two-sided')`, em que:\n",
        "*   `a` é a amostra (array)\n",
        "*   `popmean` é a média populacional alegada\n",
        "*   `alternative` define se o teste é unilateral ('less' ou 'greater') ou bilateral ('two-sided'). Por padrão, o teste é bilateral.\n",
        "\n",
        "A saída do comando é a estatística do teste (t) e o valor-p."
      ],
      "metadata": {
        "id": "11ijDaJNZ72F"
      }
    },
    {
      "cell_type": "code",
      "source": [
        "# A média alegada para os pneus é de 60.000 km\n",
        "mu0 = 60000\n",
        "# Adotando nível de significância de 5%\n",
        "alpha = 0.05\n",
        "# Armazena a saída do teste-t numa tupla\n",
        "t, p = stats.ttest_1samp(X_samples, mu0)\n",
        "\n",
        "# Imprime o resultado do teste\n",
        "print(f'A estatística do teste foi t={t:.4f}, correspondente ao valor-p de {p:.3%}.')\n",
        "# Análise do resultado do teste\n",
        "if p <= alpha:\n",
        "  print(f'Hipótese nula rejeitada ao nível de significância de {alpha:.1%}.')\n",
        "else:\n",
        "  print(f'Não há evidência suficiente para rejeitar a hipótese nula em favor da hipótese alternativa.')"
      ],
      "metadata": {
        "id": "Ntyz2-QaO8IZ"
      },
      "execution_count": null,
      "outputs": []
    },
    {
      "cell_type": "code",
      "source": [],
      "metadata": {
        "id": "InqRDJs5adly"
      },
      "execution_count": null,
      "outputs": []
    },
    {
      "cell_type": "markdown",
      "source": [
        "## Análise alternativa do resultado do teste (pelo valor da estatística do teste).\n",
        "![](https://www.dummies.com/wp-content/uploads/362521.image0.jpg)"
      ],
      "metadata": {
        "id": "lHez_aXWRerR"
      }
    },
    {
      "cell_type": "code",
      "source": [
        "# Graus de liberdade \n",
        "gl = n - 1\n",
        "# limite inferior da região de aceitação de H0\n",
        "rcinf = stats.t.ppf(alpha / 2 , gl)\n",
        "# limite superior da região de aceitação de H0\n",
        "rcsup = stats.t.ppf(1 - alpha / 2 , gl)\n",
        "# Exibe o intervalo de aceitação\n",
        "print(f'({rcinf} , {rcsup})')"
      ],
      "metadata": {
        "id": "ge9E33xKRdDz"
      },
      "execution_count": null,
      "outputs": []
    },
    {
      "cell_type": "code",
      "source": [
        "# Se o valor do teste (t) bilateral cair abaixo do limite inferior ou acima do limite superior, está na região crítica\n",
        "if t < rcinf or t > rcsup:\n",
        "  print(f'Hipótese nula rejeitada, pois t={t:.5f} está na região crítica ao nível de significância de {alpha:.1%}.')\n",
        "else:\n",
        "  print(f'Não há evidência suficiente para rejeitar a hipótese nula, pois t={t:.5f} está na região de aceitação ao nível de significância de {alpha:.1%}.')"
      ],
      "metadata": {
        "id": "mPL3b5b7Uguz"
      },
      "execution_count": null,
      "outputs": []
    },
    {
      "cell_type": "code",
      "source": [],
      "metadata": {
        "id": "8wF4xiasafui"
      },
      "execution_count": null,
      "outputs": []
    },
    {
      "cell_type": "markdown",
      "source": [
        "# Teste-t para duas amostras pareadas\n",
        "\n",
        "Verificar se a diferença entre médias de duas amostras provém de populações com médias diferentes ou não.\n",
        "\n",
        "Suposições:\n",
        "*   As duas amostras provém de populações com distribuição normal. Essa exigência pode ser relaxada, pelo teorema central do limite, para amostras de tamanho \\\\( n_1 + n_2 - 2 \\geq 30 \\\\) .\n",
        "*   As variâncias das populações devem ser aproximadamente iguais. Grosso modo, se a razão entre as variâncias for de até 4x, podemos adotar variâncias iguais.\n",
        "*   As amostras são oriundas do mesmo grupo em momentos diferentes."
      ],
      "metadata": {
        "id": "pO3LAiMse4F1"
      }
    },
    {
      "cell_type": "markdown",
      "source": [
        "---\n",
        "\n",
        "**Ex. 2)** Uma escola resolveu adotar um método de ensino novo aos seus  alunos. Então, aplicou uma prova antes de aplicar o método. Ao final, aplicou a mesma prova aos alunos, obtendo dois conjuntos de notas, conforme mostrado a seguir. Deseja-se aferir se o novo método de ensino fez diferença no  rendimento dos alunos, ao nível de siginificância de 10%."
      ],
      "metadata": {
        "id": "zVjXMEihsO3J"
      }
    },
    {
      "cell_type": "markdown",
      "source": [
        "*   A estatística teste é dada por \\\\[ t = \\frac{\\bar{x}_1 - \\bar{x}_2}{s_a \\cdot \\sqrt{\\frac{1}{n_1}+\\frac{1}{n_2}} } \\\\]\n",
        "*   Hipótese nula: \\\\( H_0: \\mu_1 = \\mu_2 \\\\)\n",
        "*   Hipótese alternativa: \\\\( H_1: \\mu_1 \\neq \\mu_2 \\\\)"
      ],
      "metadata": {
        "id": "hi2sjBwBsO3N"
      }
    },
    {
      "cell_type": "code",
      "source": [
        "# Teste-t para duas amostras\n",
        "n = 100 # n elementos na amostra\n",
        "ppre, ppos = np.random.rand(2,11) # array 2x11 com probabilidades para as notas antes e depois\n",
        "ppre = ppre / np.sum(ppre) # forçando a soma das probabilidades dar 1\n",
        "ppos = ppos / np.sum(ppos)\n",
        "X1_sample = np.random.choice(11,n,p=ppre) # notas do grupo 1 escolhidas aleatoriamente entre 0 e 10\n",
        "X2_sample = np.random.choice(11,n,p=ppos)\n",
        "\n",
        "# médias amostrais\n",
        "mu1 = np.mean(X1_sample)\n",
        "mu2 = np.mean(X2_sample)\n",
        "print(f'médias: {mu1} , {mu2}')"
      ],
      "metadata": {
        "id": "jJUxFD-HcgaA"
      },
      "execution_count": null,
      "outputs": []
    },
    {
      "cell_type": "code",
      "source": [
        "# Mostra os valores das amostras\n",
        "print('Notas Antes')\n",
        "print(X1_sample)\n",
        "print('Notas do Depois')\n",
        "print(X2_sample)"
      ],
      "metadata": {
        "id": "6AsECakG31kT"
      },
      "execution_count": null,
      "outputs": []
    },
    {
      "cell_type": "code",
      "source": [
        "# gráfico das distribuições\n",
        "fig, ax = plt.subplots(2, 1, figsize=(8, 4),sharex=True)\n",
        "ax[0].hist(X1_sample, label=\"Antes\", density=True, bins=25)\n",
        "ax[0].legend()\n",
        "\n",
        "ax[1].hist(X2_sample, label=\"Depois\", density=True, bins=25)\n",
        "ax[1].legend()\n",
        "\n",
        "plt.show()"
      ],
      "metadata": {
        "id": "5IJwdinKghvs"
      },
      "execution_count": null,
      "outputs": []
    },
    {
      "cell_type": "markdown",
      "source": [
        "Usando o módulo `stats`, basta chamar o comando `scipy.stats.ttest_rel(a, b, equal_var=True, alternative='two-sided')`, em que:\n",
        "*   `a , b` são as amostras para comparar (array)\n",
        "*   `equal_var=True` o padrão `True` assume variâncias iguais e realiza teste-t padrão; se `False`, realiza teste-t de Welch, que não assume variâncias iguais.\n",
        "*   `alternative` define se o teste é unilateral ('less' ou 'greater') ou bilateral ('two-sided'). Por padrão, o teste é bilateral.\n",
        "\n",
        "A saída do comando é a estatística do teste (t) e o valor-p."
      ],
      "metadata": {
        "id": "9cOfh2TfIZuG"
      }
    },
    {
      "cell_type": "code",
      "source": [
        "# Antes de aplicar o teste é preciso avaliar se as variâncias são iguais ou não:\n",
        "print(f'variâncias: {np.var(X1_sample)} , {np.var(X2_sample)}')\n",
        "if np.var(X1_sample)>np.var(X2_sample):\n",
        "  ratio = np.var(X1_sample) / np.var(X2_sample)\n",
        "else:\n",
        "  ratio = np.var(X2_sample) / np.var(X1_sample)\n",
        "\n",
        "# grosso modo, se a razão entre as variâncias for até 4x, podemos adotar variâncias iguais\n",
        "print(f'proporção entre as variâncias = {ratio:.1f}')"
      ],
      "metadata": {
        "id": "AKuYml8Rghds"
      },
      "execution_count": null,
      "outputs": []
    },
    {
      "cell_type": "code",
      "source": [
        "# aplicando o teste\n",
        "t, p = stats.ttest_rel(X1_sample, X2_sample)\n",
        "# nível de significância\n",
        "alpha = 0.10\n",
        "# Imprime o resultado do teste\n",
        "print(f'A estatística do teste foi t={t:.4f}, correspondente ao valor-p de {p:.3%}.')\n",
        "if p <= alpha:\n",
        "  print(f'Hipótese nula rejeitada ao nível de significância de {alpha:.1%}.')\n",
        "else:\n",
        "  print(f'Não há evidência suficiente para rejeitar a hipótese nula em favor da hipótese alternativa.')"
      ],
      "metadata": {
        "id": "so9IprafFX9u"
      },
      "execution_count": null,
      "outputs": []
    },
    {
      "cell_type": "code",
      "source": [],
      "metadata": {
        "id": "sxcXmjRjFdK-"
      },
      "execution_count": null,
      "outputs": []
    },
    {
      "cell_type": "markdown",
      "source": [
        "## Análise alternativa do resultado do teste (pelo valor da estatística do teste).\n",
        "![](https://www.dummies.com/wp-content/uploads/362521.image0.jpg)"
      ],
      "metadata": {
        "id": "VHbHjzv4EV4e"
      }
    },
    {
      "cell_type": "code",
      "source": [
        "# Graus de liberdade \n",
        "n1 , n2 = n , n\n",
        "gl = n1 + n2 - 2\n",
        "# limite inferior da região de aceitação de H0\n",
        "rcinf = stats.t.ppf(alpha / 2 , gl)\n",
        "# limite superior da região de aceitação de H0\n",
        "rcsup = stats.t.ppf(1 - alpha / 2 , gl)\n",
        "# Exibe o intervalo de aceitação\n",
        "print(f'({rcinf} , {rcsup})')"
      ],
      "metadata": {
        "id": "9xWU7m9Gt8de"
      },
      "execution_count": null,
      "outputs": []
    },
    {
      "cell_type": "code",
      "source": [
        "# Se o valor do teste (t) bilateral cair abaixo do limite inferior ou acima do limite superior, está na região crítica\n",
        "if t < rcinf or t > rcsup:\n",
        "  print(f'Hipótese nula rejeitada, pois t={t:.4f} está na região crítica ao nível de significância de {alpha:.1%}.')\n",
        "else:\n",
        "  print(f'Não há evidência suficiente para rejeitar a hipótese nula, pois t={t:.4f} está na região de aceitação ao nível de significância de {alpha:.1%}.')"
      ],
      "metadata": {
        "id": "BoyUtihjt8de"
      },
      "execution_count": null,
      "outputs": []
    },
    {
      "cell_type": "code",
      "source": [],
      "metadata": {
        "id": "uFplAtiZ869J"
      },
      "execution_count": null,
      "outputs": []
    },
    {
      "cell_type": "code",
      "source": [],
      "metadata": {
        "id": "NLwaRS9g86yC"
      },
      "execution_count": null,
      "outputs": []
    },
    {
      "cell_type": "markdown",
      "source": [
        "# Teste-t para duas amostras independentes\n",
        "\n",
        "O objetivo do teste é verificar se a diferença entre médias de duas amostras provém de populações com médias diferentes ou não.\n",
        "\n",
        "Suposições:\n",
        "*   As duas amostras provém de populações com distribuição normal. Essa exigência pode ser relaxada, pelo teorema central do limite, para amostras de tamanho \\\\( n_1 + n_2 - 2 \\geq 30 \\\\) .\n",
        "*   As variâncias das populações devem ser aproximadamente iguais. Grosso modo, se a razão entre as variâncias for de até 4x, podemos adotar variâncias iguais.\n",
        "*   As amostras são oriundas de dois grupos diferentes (independentes)."
      ],
      "metadata": {
        "id": "4z064boTcYwY"
      }
    },
    {
      "cell_type": "markdown",
      "source": [
        "---\n",
        "\n",
        "**Ex. 3)** Sejam dois métodos de ensino, A e B. Uma escola separou os alunos em dois grupos e adotou um método para cada grupo. Ao final, aplicou a mesma prova a todos os alunos, obtendo dois conjuntos de notas, conforme mostrado a seguir. Deseja-se aferir se há diferença de rendimento entre os métodos aplicados, ao nível de siginificância de 10%."
      ],
      "metadata": {
        "id": "L2jIhVixrVkU"
      }
    },
    {
      "cell_type": "markdown",
      "source": [
        "*   A estatística teste é dada por \\\\[ t = \\frac{\\bar{x}_1 - \\bar{x}_2}{s_a \\cdot \\sqrt{\\frac{1}{n_1}+\\frac{1}{n_2}} } \\\\]\n",
        "*   Hipótese nula: \\\\( H_0: \\mu_1 = \\mu_2 \\\\)\n",
        "*   Hipótese alternativa: \\\\( H_1: \\mu_1 \\neq \\mu_2 \\\\)"
      ],
      "metadata": {
        "id": "KRYGldD9tAh0"
      }
    },
    {
      "cell_type": "code",
      "source": [
        "# Amostragem de n elementos a partir de duas distribuições normais com médias mu1 e mu2 e desvio-padrão sigma\n",
        "n = 25\n",
        "ppre, ppos = np.random.rand(2,11) # array 2x11 com probabilidades para as notas A e B\n",
        "ppre = ppre / np.sum(ppre) # forçando a soma das probabilidades dar 1\n",
        "ppos = ppos / np.sum(ppos)\n",
        "X1_sample = np.random.choice(11,n,p=ppre) # notas do grupo 1 escolhidas aleatoriamente entre 0 e 10\n",
        "X2_sample = np.random.choice(11,n,p=ppos)\n",
        "\n",
        "# médias amostrais\n",
        "mu1 = np.mean(X1_sample)\n",
        "mu2 = np.mean(X2_sample)\n",
        "print(f'médias: {mu1} , {mu2}')"
      ],
      "metadata": {
        "id": "jn2LQ-I6yBe7"
      },
      "execution_count": null,
      "outputs": []
    },
    {
      "cell_type": "code",
      "source": [
        "# Mostra os valores das amostras\n",
        "print('Notas do grupo A')\n",
        "print(X1_sample)\n",
        "print('Notas do grupo B')\n",
        "print(X2_sample)"
      ],
      "metadata": {
        "id": "3RdbgjbvjfvS"
      },
      "execution_count": null,
      "outputs": []
    },
    {
      "cell_type": "code",
      "source": [
        "# histograma das amostras\n",
        "fig, ax = plt.subplots(2, 1, figsize=(8, 4),sharex=True)\n",
        "ax[0].hist(X1_sample, label=\"Grupo A\", density=True, bins=20)\n",
        "ax[0].legend()\n",
        "\n",
        "ax[1].hist(X2_sample, label=\"Grupo B\", density=True, bins=20)\n",
        "ax[1].legend()\n",
        "\n",
        "plt.show()"
      ],
      "metadata": {
        "id": "LoBRHF0jTd9y"
      },
      "execution_count": null,
      "outputs": []
    },
    {
      "cell_type": "markdown",
      "source": [
        "Usando o módulo `stats`, basta chamar o comando `scipy.stats.ttest_ind(a, b, equal_var=True, alternative='two-sided')`, em que:\n",
        "*   `a , b` são as amostras para comparar (array)\n",
        "*   `equal_var=True` o padrão `True` assume variâncias iguais e realiza teste-t padrão; se `False`, realiza teste-t de Welch, que não assume variâncias iguais.\n",
        "*   `alternative` define se o teste é unilateral ('less' ou 'greater') ou bilateral ('two-sided'). Por padrão, o teste é bilateral.\n",
        "\n",
        "A saída do comando é a estatística do teste (t) e o valor-p."
      ],
      "metadata": {
        "id": "Rp8F_td5dUHb"
      }
    },
    {
      "cell_type": "code",
      "source": [
        "# Antes de aplicar o teste é preciso avaliar se as variâncias são iguais ou não:\n",
        "print(f'variâncias: {np.var(X1_sample)} , {np.var(X2_sample)}')\n",
        "if np.var(X1_sample)>np.var(X2_sample):\n",
        "  ratio = np.var(X1_sample) / np.var(X2_sample)\n",
        "else:\n",
        "  ratio = np.var(X2_sample) / np.var(X1_sample)\n",
        "\n",
        "# grosso modo, se a razão entre as variâncias for até 4x, podemos adotar variâncias iguais\n",
        "print(f'proporção entre as variâncias = {ratio:.1f}')"
      ],
      "metadata": {
        "id": "XAbAbgW3Ytxj"
      },
      "execution_count": null,
      "outputs": []
    },
    {
      "cell_type": "code",
      "source": [
        "# aplicando o teste\n",
        "t, p = stats.ttest_ind(X1_sample, X2_sample)\n",
        "# nível de significância\n",
        "alpha = 0.10\n",
        "# Imprime o resultado do teste\n",
        "print(f'A estatística do teste foi t={t:.4f}, correspondente ao valor-p de {p:.3%}.')\n",
        "if p <= alpha:\n",
        "  print(f'Hipótese nula rejeitada ao nível de significância de {alpha:.1%}.')\n",
        "else:\n",
        "  print(f'Não há evidência suficiente para rejeitar a hipótese nula em favor da hipótese alternativa.')"
      ],
      "metadata": {
        "id": "E5JP1zKTcgrf"
      },
      "execution_count": null,
      "outputs": []
    },
    {
      "cell_type": "code",
      "source": [],
      "metadata": {
        "id": "A-e6dmTlcgoH"
      },
      "execution_count": null,
      "outputs": []
    },
    {
      "cell_type": "markdown",
      "source": [
        "## Análise alternativa do resultado do teste (pelo valor da estatística do teste).\n",
        "![](https://www.dummies.com/wp-content/uploads/362521.image0.jpg)"
      ],
      "metadata": {
        "id": "u5SljKlqDsWe"
      }
    },
    {
      "cell_type": "code",
      "source": [
        "# Graus de liberdade \n",
        "n1 , n2 = n , n\n",
        "gl = n1 + n2 - 2\n",
        "# limite inferior da região de aceitação de H0\n",
        "rcinf = stats.t.ppf(alpha / 2 , gl)\n",
        "# limite superior da região de aceitação de H0\n",
        "rcsup = stats.t.ppf(1 - alpha / 2 , gl)\n",
        "# Exibe o intervalo de aceitação\n",
        "print(f'({rcinf} , {rcsup})')"
      ],
      "metadata": {
        "id": "HpXuH-kJgYB7"
      },
      "execution_count": null,
      "outputs": []
    },
    {
      "cell_type": "code",
      "source": [
        "# Se o valor do teste (t) bilateral cair abaixo do limite inferior ou acima do limite superior, está na região crítica\n",
        "if t < rcinf or t > rcsup:\n",
        "  print(f'Hipótese nula rejeitada, pois t={t:.4f} está na região crítica ao nível de significância de {alpha:.1%}.')\n",
        "else:\n",
        "  print(f'Não há evidência suficiente para rejeitar a hipótese nula, pois t={t:.4f} está na região de aceitação ao nível de significância de {alpha:.1%}.')"
      ],
      "metadata": {
        "id": "HsBtBdUBgk3q"
      },
      "execution_count": null,
      "outputs": []
    },
    {
      "cell_type": "markdown",
      "source": [
        "# Bônus"
      ],
      "metadata": {
        "id": "6L9O7hQqxNkX"
      }
    },
    {
      "cell_type": "markdown",
      "source": [
        "**Pingouin** é um pacote estatístico de código aberto escrito em Python 3 relativamente novo. Ele foi desenvolvido para usuários que desejam funções de estatísticas simples, mas exaustivas.\n",
        "\n",
        "Por exemplo, o `ttest_ind` da biblioteca SciPy retorna apenas o valor T e o valor p. Por outro lado, a função `ttest` de Pingouin retorna o valor T, o valor p, os graus de liberdade, o tamanho do efeito (d de Cohen), os intervalos de confiança de 95% da diferença nas médias, o poder estatístico e o fator de Bayes (BF10) do teste.\n",
        "\n",
        "A documentação do pacote pode ser consultada em https://pingouin-stats.org/build/html/index.html\n",
        "\n",
        "![](https://pingouin-stats.org/build/html/_images/logo_pingouin.png)"
      ],
      "metadata": {
        "id": "IfXKE07CxRf1"
      }
    },
    {
      "cell_type": "code",
      "source": [
        "# Instalação do pacote\n",
        "!pip install pingouin"
      ],
      "metadata": {
        "id": "qOPfPm7Ezos9"
      },
      "execution_count": null,
      "outputs": []
    },
    {
      "cell_type": "code",
      "source": [
        "# Importação da biblioteca\n",
        "import pingouin as pg"
      ],
      "metadata": {
        "id": "j_9Irih4z5eM"
      },
      "execution_count": null,
      "outputs": []
    },
    {
      "cell_type": "markdown",
      "source": [
        "## Comando para aplicação do teste t com **pingouin**\n",
        "\n",
        "`pingouin.ttest(x, y, paired=False, alternative='two-sided', correction='auto', r=0.707, confidence=0.95)`\n",
        "\n",
        "Em que:\n",
        "*   `x,y` são os dados amostrais. Para realizar o teste t de uma amostra, basta informar a média populacional no lugar de y.\n",
        "*   `paired` False para teste de amostras independentes (padrão) e True para amostras pareadas.\n",
        "*   `alternative` two-sided para testes bilaterais e greater ou less para testes unilaterais.\n",
        "*   `confidence` é o nível de confiança, por padrão 95%. Ou seja, é o complemento do nível de significância.\n"
      ],
      "metadata": {
        "id": "vOES2oz81qNM"
      }
    },
    {
      "cell_type": "code",
      "source": [
        "# Mostra os valores das amostras\n",
        "print('Notas Grupo 1')\n",
        "print(X1_sample)\n",
        "print('Notas Grupo 2')\n",
        "print(X2_sample)"
      ],
      "metadata": {
        "id": "tolIaNtnGFUv"
      },
      "execution_count": null,
      "outputs": []
    },
    {
      "cell_type": "code",
      "source": [
        "# Aplicação do teste t para duas amostras independentes\n",
        "pg.ttest(X1_sample, X2_sample)"
      ],
      "metadata": {
        "id": "ZTEXjLFV0D8U"
      },
      "execution_count": null,
      "outputs": []
    },
    {
      "cell_type": "code",
      "source": [],
      "metadata": {
        "id": "Zx4zEOE_GmS-"
      },
      "execution_count": null,
      "outputs": []
    }
  ]
}