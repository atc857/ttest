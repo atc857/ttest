{
  "nbformat": 4,
  "nbformat_minor": 0,
  "metadata": {
    "colab": {
      "provenance": [],
      "authorship_tag": "ABX9TyOBpit+FD/uPVwK0JbD2U1u",
      "include_colab_link": true
    },
    "kernelspec": {
      "name": "python3",
      "display_name": "Python 3"
    },
    "language_info": {
      "name": "python"
    }
  },
  "cells": [
    {
      "cell_type": "markdown",
      "metadata": {
        "id": "view-in-github",
        "colab_type": "text"
      },
      "source": [
        "<a href=\"https://colab.research.google.com/github/atc857/ttest/blob/main/Aula4_Testes_Hipoteses_ttest.ipynb\" target=\"_parent\"><img src=\"https://colab.research.google.com/assets/colab-badge.svg\" alt=\"Open In Colab\"/></a>"
      ]
    },
    {
      "cell_type": "markdown",
      "source": [
        "# Testes de hipóteses utilizando Python\n",
        "\n",
        "Disciplina: Metodologia Científica 2 (Métodos Quantitativos)\n",
        "\n",
        "por André T. Campos"
      ],
      "metadata": {
        "id": "sUCHUjMqXm-A"
      }
    },
    {
      "cell_type": "markdown",
      "source": [
        "O pacote `SciPy` possui ferramentas dedicadas à resolução de problemas típicos de computação científica. Nesta aula utilizaremos especificamente o módulo `stats`, que possui uma vasta gama de funcionalidades para lidar com conceitos estatísticos fundamentais. Para maiores informações sobre as funcionalidades disponíveis, consulte a documentação no link https://docs.scipy.org/doc/scipy/reference/stats.html.\n",
        "\n",
        "![SciPy logo](https://www.fullstackpython.com/img/logos/scipy.png)"
      ],
      "metadata": {
        "id": "7HzIie353WNc"
      }
    },
    {
      "cell_type": "code",
      "source": [
        "# Atualização da biblioteca scipy para a versão mais recente disponível.\n",
        "# Google Colab já vem com a biblioteca instalada, porém, pode não ser a versão mais recente. Portanto, é recomendável atualizar.\n",
        "!pip install --upgrade scipy"
      ],
      "metadata": {
        "colab": {
          "base_uri": "https://localhost:8080/"
        },
        "id": "JQd0GZ7nq0xS",
        "outputId": "9ec3052b-02e7-4182-cd6d-7f1dd0bd5253"
      },
      "execution_count": 1,
      "outputs": [
        {
          "output_type": "stream",
          "name": "stdout",
          "text": [
            "Looking in indexes: https://pypi.org/simple, https://us-python.pkg.dev/colab-wheels/public/simple/\n",
            "Requirement already satisfied: scipy in /usr/local/lib/python3.8/dist-packages (1.10.0)\n",
            "Requirement already satisfied: numpy<1.27.0,>=1.19.5 in /usr/local/lib/python3.8/dist-packages (from scipy) (1.21.6)\n"
          ]
        }
      ]
    },
    {
      "cell_type": "code",
      "execution_count": 2,
      "metadata": {
        "id": "kLN1-r35XSVc"
      },
      "outputs": [],
      "source": [
        "# Importação das bibliotecas necessárias\n",
        "from scipy import stats\n",
        "from scipy import optimize\n",
        "import pandas as pd\n",
        "import numpy as np\n",
        "import matplotlib.pyplot as plt\n",
        "import seaborn as sns"
      ]
    },
    {
      "cell_type": "code",
      "source": [
        "# Configuração do estilo dos gráficos\n",
        "sns.set(style='ticks')"
      ],
      "metadata": {
        "id": "FJgl1o1VXb1-"
      },
      "execution_count": 3,
      "outputs": []
    },
    {
      "cell_type": "code",
      "source": [],
      "metadata": {
        "id": "ld-uHsZKYrBG"
      },
      "execution_count": 3,
      "outputs": []
    },
    {
      "cell_type": "markdown",
      "source": [
        "# Teste-t para uma amostra\n",
        "\n",
        "O objetivo deste teste é verificar se a amostra sob análise provém de uma população com a média informada.\n",
        "\n",
        "Suposições:\n",
        "*   A população da qual a amostra foi extraída é normal. Essa exigência pode ser relaxada, pelo teorema central do limite, para amostras de tamanho \\\\( n \\geq 30 \\\\) .\n",
        "*   Se a variância da população é conhecida, utiliza-se o *teste-z*. Se a variância é desconhecida, utiliza-se o *teste-t*. Normalmente o segundo caso é o mais comum.\n"
      ],
      "metadata": {
        "id": "BLwJ47Z7KX9Z"
      }
    },
    {
      "cell_type": "markdown",
      "source": [
        "---\n",
        "\n",
        "**Ex. 1)** Desejamos avaliar se uma amostra fornecida de \\\\(n=40\\\\) pneus (`X_samples`) tem média de durabilidade \\\\( \\mu_0 = 60000 \\\\) quilômetros.\n"
      ],
      "metadata": {
        "id": "sgH4cThiEMzX"
      }
    },
    {
      "cell_type": "markdown",
      "source": [
        "*   A estatística teste é dada por \\\\[ t = \\frac{\\bar{x} - \\mu_0}{s / \\sqrt{n} } \\\\]\n",
        "*   Hipótese nula: \\\\( H_0: \\mu = \\mu_0 \\\\)\n",
        "*   Hipótese alternativa: \\\\( H_1: \\mu \\neq \\mu_0 \\\\)"
      ],
      "metadata": {
        "id": "MNr75EjwQgQ7"
      }
    },
    {
      "cell_type": "code",
      "source": [
        "# Gera uma amostra aleatória de n elementos a partir de população normal com média mu e desvio-padrão sigma\n",
        "mu, sigma = 55000, 10000\n",
        "X = stats.norm(mu, sigma)\n",
        "n = 40\n",
        "X_samples = X.rvs(n) \n",
        "\n",
        "# Plota o histograma da amostra\n",
        "plt.hist(X_samples, density=True, bins=20)\n",
        "plt.title('Histograma')\n",
        "plt.show()\n",
        "\n",
        "# Mostra os valores da amostra\n",
        "print(X_samples)"
      ],
      "metadata": {
        "colab": {
          "base_uri": "https://localhost:8080/",
          "height": 458
        },
        "id": "_ZluvOD_bqTf",
        "outputId": "b7555601-e9b8-48f1-ff73-063503c5602c"
      },
      "execution_count": 4,
      "outputs": [
        {
          "output_type": "display_data",
          "data": {
            "text/plain": [
              "<Figure size 432x288 with 1 Axes>"
            ],
            "image/png": "[encoded data removed]"
          },
          "metadata": {}
        },
        {
          "output_type": "stream",
          "name": "stdout",
          "text": [
            "[54842.98290378 63948.99703697 65667.28781282 49941.57069188\n",
            " 48235.92306356 51688.78871712 47795.19534575 54940.48880293\n",
            " 44309.13576218 46760.17027281 45768.29899528 51343.87170545\n",
            " 61586.1730406  48099.71012255 48751.59127488 64356.37789201\n",
            " 51709.08968796 46258.34803922 60247.2208777  59342.65008664\n",
            " 64823.32241831 41635.07072627 50414.52616525 54533.07480064\n",
            " 65248.43247282 62083.94640561 57870.20987225 50350.63397604\n",
            " 62434.71589458 45771.0964161  37966.91981127 36367.99250907\n",
            " 47957.63388268 43772.64148596 43243.51634697 57137.80722626\n",
            " 49290.18006654 55538.38857888 49954.43479876 47509.14613667]\n"
          ]
        }
      ]
    },
    {
      "cell_type": "markdown",
      "source": [
        "Usando o módulo `stats`, basta chamar o comando `scipy.stats.ttest_1samp(a, popmean, alternative='two-sided')`, em que:\n",
        "*   `a` é a amostra (array)\n",
        "*   `popmean` é a média populacional alegada\n",
        "*   `alternative` define se o teste é unilateral ('less' ou 'greater') ou bilateral ('two-sided'). Por padrão, o teste é bilateral.\n",
        "\n",
        "A saída do comando é a estatística do teste (t) e o valor-p."
      ],
      "metadata": {
        "id": "11ijDaJNZ72F"
      }
    },
    {
      "cell_type": "code",
      "source": [
        "# A média alegada para os pneus é de 60.000 km\n",
        "mu0 = 60000\n",
        "# Adotando nível de significância de 5%\n",
        "alpha = 0.05\n",
        "# Armazena a saída do teste-t numa tupla\n",
        "t, p = stats.ttest_1samp(X_samples, mu0)\n",
        "\n",
        "# Imprime o resultado do teste\n",
        "print(f'A estatística do teste foi t={t:.4f}, correspondente ao valor-p de {p:.3%}.')\n",
        "# Análise do resultado do teste\n",
        "if p <= alpha:\n",
        "  print(f'Hipótese nula rejeitada ao nível de significância de {alpha:.1%}.')\n",
        "else:\n",
        "  print(f'Não há evidência suficiente para rejeitar a hipótese nula em favor da hipótese alternativa.')"
      ],
      "metadata": {
        "colab": {
          "base_uri": "https://localhost:8080/"
        },
        "id": "Ntyz2-QaO8IZ",
        "outputId": "366ef625-26ae-4d79-83ec-27201891c1f4"
      },
      "execution_count": 5,
      "outputs": [
        {
          "output_type": "stream",
          "name": "stdout",
          "text": [
            "A estatística do teste foi t=-6.3288, correspondente ao valor-p de 0.000%.\n",
            "Hipótese nula rejeitada ao nível de significância de 5.0%.\n"
          ]
        }
      ]
    },
    {
      "cell_type": "code",
      "source": [],
      "metadata": {
        "id": "InqRDJs5adly"
      },
      "execution_count": 5,
      "outputs": []
    },
    {
      "cell_type": "markdown",
      "source": [
        "## Análise alternativa do resultado do teste (pelo valor da estatística do teste).\n",
        "![](https://www.dummies.com/wp-content/uploads/362521.image0.jpg)"
      ],
      "metadata": {
        "id": "lHez_aXWRerR"
      }
    },
    {
      "cell_type": "code",
      "source": [
        "# Graus de liberdade \n",
        "gl = n - 1\n",
        "# limite inferior da região de aceitação de H0\n",
        "rcinf = stats.t.ppf(alpha / 2 , gl)\n",
        "# limite superior da região de aceitação de H0\n",
        "rcsup = stats.t.ppf(1 - alpha / 2 , gl)\n",
        "# Exibe o intervalo de aceitação\n",
        "print(f'({rcinf} , {rcsup})')"
      ],
      "metadata": {
        "colab": {
          "base_uri": "https://localhost:8080/"
        },
        "id": "ge9E33xKRdDz",
        "outputId": "d749bfc1-d0ae-4428-f105-ba4d9908a18e"
      },
      "execution_count": 6,
      "outputs": [
        {
          "output_type": "stream",
          "name": "stdout",
          "text": [
            "(-2.0226909117347285 , 2.022690911734728)\n"
          ]
        }
      ]
    },
    {
      "cell_type": "code",
      "source": [
        "# Se o valor do teste (t) bilateral cair abaixo do limite inferior ou acima do limite superior, está na região crítica\n",
        "if t < rcinf or t > rcsup:\n",
        "  print(f'Hipótese nula rejeitada, pois t={t:.5f} está na região crítica ao nível de significância de {alpha:.1%}.')\n",
        "else:\n",
        "  print(f'Não há evidência suficiente para rejeitar a hipótese nula, pois t={t:.5f} está na região de aceitação ao nível de significância de {alpha:.1%}.')"
      ],
      "metadata": {
        "colab": {
          "base_uri": "https://localhost:8080/"
        },
        "id": "mPL3b5b7Uguz",
        "outputId": "96c38f68-bb6f-43ad-c017-ecc5a44e8235"
      },
      "execution_count": 7,
      "outputs": [
        {
          "output_type": "stream",
          "name": "stdout",
          "text": [
            "Hipótese nula rejeitada, pois t=-6.32879 está na região crítica ao nível de significância de 5.0%.\n"
          ]
        }
      ]
    },
    {
      "cell_type": "code",
      "source": [],
      "metadata": {
        "id": "8wF4xiasafui"
      },
      "execution_count": 7,
      "outputs": []
    },
    {
      "cell_type": "markdown",
      "source": [
        "# Teste-t para duas amostras independentes\n",
        "\n",
        "O objetivo do teste é verificar se a diferença entre médias de duas amostras provém de populações com médias diferentes ou não.\n",
        "\n",
        "Suposições:\n",
        "*   As duas amostras provém de populações com distribuição normal. Essa exigência pode ser relaxada, pelo teorema central do limite, para amostras de tamanho \\\\( n_1 + n_2 - 2 \\geq 30 \\\\) .\n",
        "*   As variâncias das populações devem ser aproximadamente iguais. Grosso modo, se a razão entre as variâncias for de até 4x, podemos adotar variâncias iguais.\n",
        "*   As amostras são oriundas de dois grupos diferentes (independentes)."
      ],
      "metadata": {
        "id": "4z064boTcYwY"
      }
    },
    {
      "cell_type": "markdown",
      "source": [
        "---\n",
        "\n",
        "**Ex. 2)** Sejam dois métodos de ensino, A e B. Uma escola separou os alunos em dois grupos e adotou um método para cada grupo. Ao final, aplicou a mesma prova a todos os alunos, obtendo dois conjuntos de notas, conforme mostrado a seguir. Deseja-se aferir se há diferença de rendimento entre os métodos aplicados, ao nível de siginificância de 10%."
      ],
      "metadata": {
        "id": "L2jIhVixrVkU"
      }
    },
    {
      "cell_type": "markdown",
      "source": [
        "*   A estatística teste é dada por \\\\[ t = \\frac{\\bar{x}_1 - \\bar{x}_2}{s_a \\cdot \\sqrt{\\frac{1}{n_1}+\\frac{1}{n_2}} } \\\\]\n",
        "*   Hipótese nula: \\\\( H_0: \\mu_1 = \\mu_2 \\\\)\n",
        "*   Hipótese alternativa: \\\\( H_1: \\mu_1 \\neq \\mu_2 \\\\)"
      ],
      "metadata": {
        "id": "KRYGldD9tAh0"
      }
    },
    {
      "cell_type": "code",
      "source": [
        "# Amostragem de n elementos a partir de duas distribuições normais com médias mu1 e mu2 e desvio-padrão sigma\n",
        "n = 25\n",
        "ppre, ppos = np.random.rand(2,11) # array 2x11 com probabilidades para as notas A e B\n",
        "ppre = ppre / np.sum(ppre) # forçando a soma das probabilidades dar 1\n",
        "ppos = ppos / np.sum(ppos)\n",
        "X1_sample = np.random.choice(11,n,p=ppre) # notas do grupo 1 escolhidas aleatoriamente entre 0 e 10\n",
        "X2_sample = np.random.choice(11,n,p=ppos)\n",
        "\n",
        "# médias amostrais\n",
        "mu1 = np.mean(X1_sample)\n",
        "mu2 = np.mean(X2_sample)\n",
        "print(f'médias: {mu1} , {mu2}')"
      ],
      "metadata": {
        "colab": {
          "base_uri": "https://localhost:8080/"
        },
        "id": "jn2LQ-I6yBe7",
        "outputId": "ab6b742e-79b7-44cd-df25-2c236b347e89"
      },
      "execution_count": 8,
      "outputs": [
        {
          "output_type": "stream",
          "name": "stdout",
          "text": [
            "médias: 5.16 , 4.4\n"
          ]
        }
      ]
    },
    {
      "cell_type": "code",
      "source": [
        "# Mostra os valores das amostras\n",
        "print('Notas do grupo A')\n",
        "print(X1_sample)\n",
        "print('Notas do grupo B')\n",
        "print(X2_sample)"
      ],
      "metadata": {
        "colab": {
          "base_uri": "https://localhost:8080/"
        },
        "id": "3RdbgjbvjfvS",
        "outputId": "3c6b678e-9af9-4dc2-a8f1-e2936a859a05"
      },
      "execution_count": 9,
      "outputs": [
        {
          "output_type": "stream",
          "name": "stdout",
          "text": [
            "Notas do grupo A\n",
            "[ 6  3  3 10 10  4 10  9  1 10  6  0  6  3  3 10  4  1  4  3  1  0 10  6\n",
            "  6]\n",
            "Notas do grupo B\n",
            "[ 4  6  1  1  5  2  6  7  4  3  9  2  0  1  4  5  0  2  9  5  2  9  4  9\n",
            " 10]\n"
          ]
        }
      ]
    },
    {
      "cell_type": "code",
      "source": [
        "# histograma das amostras\n",
        "fig, ax = plt.subplots(2, 1, figsize=(8, 4),sharex=True)\n",
        "ax[0].hist(X1_sample, label=\"Grupo A\", density=True, bins=20)\n",
        "ax[0].legend()\n",
        "\n",
        "ax[1].hist(X2_sample, label=\"Grupo B\", density=True, bins=20)\n",
        "ax[1].legend()\n",
        "\n",
        "plt.show()"
      ],
      "metadata": {
        "id": "LoBRHF0jTd9y",
        "colab": {
          "base_uri": "https://localhost:8080/",
          "height": 268
        },
        "outputId": "d8857281-e99c-459c-ca10-f7ea2db15c90"
      },
      "execution_count": 10,
      "outputs": [
        {
          "output_type": "display_data",
          "data": {
            "text/plain": [
              "<Figure size 576x288 with 2 Axes>"
            ],
            "image/png": "[encoded data removed]"
          },
          "metadata": {}
        }
      ]
    },
    {
      "cell_type": "markdown",
      "source": [
        "Usando o módulo `stats`, basta chamar o comando `scipy.stats.ttest_ind(a, b, equal_var=True, alternative='two-sided')`, em que:\n",
        "*   `a , b` são as amostras para comparar (array)\n",
        "*   `equal_var=True` o padrão `True` assume variâncias iguais e realiza teste-t padrão; se `False`, realiza teste-t de Welch, que não assume variâncias iguais.\n",
        "*   `alternative` define se o teste é unilateral ('less' ou 'greater') ou bilateral ('two-sided'). Por padrão, o teste é bilateral.\n",
        "\n",
        "A saída do comando é a estatística do teste (t) e o valor-p."
      ],
      "metadata": {
        "id": "Rp8F_td5dUHb"
      }
    },
    {
      "cell_type": "code",
      "source": [
        "# Antes de aplicar o teste é preciso avaliar se as variâncias são iguais ou não:\n",
        "print(f'variâncias: {np.var(X1_sample)} , {np.var(X2_sample)}')\n",
        "if np.var(X1_sample)>np.var(X2_sample):\n",
        "  ratio = np.var(X1_sample) / np.var(X2_sample)\n",
        "else:\n",
        "  ratio = np.var(X2_sample) / np.var(X1_sample)\n",
        "\n",
        "# grosso modo, se a razão entre as variâncias for até 4x, podemos adotar variâncias iguais\n",
        "print(f'proporção entre as variâncias = {ratio:.1f}')"
      ],
      "metadata": {
        "colab": {
          "base_uri": "https://localhost:8080/"
        },
        "id": "XAbAbgW3Ytxj",
        "outputId": "ab80cada-90fc-4263-ba99-e859dc75ea2e"
      },
      "execution_count": 11,
      "outputs": [
        {
          "output_type": "stream",
          "name": "stdout",
          "text": [
            "variâncias: 11.6544 , 9.12\n",
            "proporção entre as variâncias = 1.3\n"
          ]
        }
      ]
    },
    {
      "cell_type": "code",
      "source": [
        "# aplicando o teste\n",
        "t, p = stats.ttest_ind(X1_sample, X2_sample)\n",
        "# nível de significância\n",
        "alpha = 0.10\n",
        "# Imprime o resultado do teste\n",
        "print(f'A estatística do teste foi t={t:.4f}, correspondente ao valor-p de {p:.3%}.')\n",
        "if p <= alpha:\n",
        "  print(f'Hipótese nula rejeitada ao nível de significância de {alpha:.1%}.')\n",
        "else:\n",
        "  print(f'Não há evidência suficiente para rejeitar a hipótese nula em favor da hipótese alternativa.')"
      ],
      "metadata": {
        "id": "E5JP1zKTcgrf",
        "colab": {
          "base_uri": "https://localhost:8080/"
        },
        "outputId": "47457987-c9c0-4bd3-ac88-f659c5fb79c1"
      },
      "execution_count": 12,
      "outputs": [
        {
          "output_type": "stream",
          "name": "stdout",
          "text": [
            "A estatística do teste foi t=0.8169, correspondente ao valor-p de 41.804%.\n",
            "Não há evidência suficiente para rejeitar a hipótese nula em favor da hipótese alternativa.\n"
          ]
        }
      ]
    },
    {
      "cell_type": "code",
      "source": [],
      "metadata": {
        "id": "A-e6dmTlcgoH"
      },
      "execution_count": 12,
      "outputs": []
    },
    {
      "cell_type": "markdown",
      "source": [
        "## Análise alternativa do resultado do teste (pelo valor da estatística do teste).\n",
        "![](https://www.dummies.com/wp-content/uploads/362521.image0.jpg)"
      ],
      "metadata": {
        "id": "u5SljKlqDsWe"
      }
    },
    {
      "cell_type": "code",
      "source": [
        "# Graus de liberdade \n",
        "gl = n - 1\n",
        "# limite inferior da região de aceitação de H0\n",
        "rcinf = stats.t.ppf(alpha / 2 , gl)\n",
        "# limite superior da região de aceitação de H0\n",
        "rcsup = stats.t.ppf(1 - alpha / 2 , gl)\n",
        "# Exibe o intervalo de aceitação\n",
        "print(f'({rcinf} , {rcsup})')"
      ],
      "metadata": {
        "colab": {
          "base_uri": "https://localhost:8080/"
        },
        "outputId": "a3e028b1-8a68-4cbb-a5c7-257f8dbb5114",
        "id": "HpXuH-kJgYB7"
      },
      "execution_count": 13,
      "outputs": [
        {
          "output_type": "stream",
          "name": "stdout",
          "text": [
            "(-1.7108820799094282 , 1.7108820799094275)\n"
          ]
        }
      ]
    },
    {
      "cell_type": "code",
      "source": [
        "# Se o valor do teste (t) bilateral cair abaixo do limite inferior ou acima do limite superior, está na região crítica\n",
        "if t < rcinf or t > rcsup:\n",
        "  print(f'Hipótese nula rejeitada, pois t={t:.4f} está na região crítica ao nível de significância de {alpha:.1%}.')\n",
        "else:\n",
        "  print(f'Não há evidência suficiente para rejeitar a hipótese nula, pois t={t:.4f} está na região de aceitação ao nível de significância de {alpha:.1%}.')"
      ],
      "metadata": {
        "colab": {
          "base_uri": "https://localhost:8080/"
        },
        "outputId": "047c19d6-ab60-4cb2-d72a-641dfaf7cee0",
        "id": "HsBtBdUBgk3q"
      },
      "execution_count": 14,
      "outputs": [
        {
          "output_type": "stream",
          "name": "stdout",
          "text": [
            "Não há evidência suficiente para rejeitar a hipótese nula, pois t=0.8169 está na região de aceitação ao nível de significância de 10.0%.\n"
          ]
        }
      ]
    },
    {
      "cell_type": "markdown",
      "source": [
        "# Teste-t para duas amostras pareadas\n",
        "\n",
        "Verificar se a diferença entre médias de duas amostras provém de populações com médias diferentes ou não.\n",
        "\n",
        "Suposições:\n",
        "*   As duas amostras provém de populações com distribuição normal. Essa exigência pode ser relaxada, pelo teorema central do limite, para amostras de tamanho \\\\( n_1 + n_2 - 2 \\geq 30 \\\\) .\n",
        "*   As variâncias das populações devem ser aproximadamente iguais. Grosso modo, se a razão entre as variâncias for de até 4x, podemos adotar variâncias iguais.\n",
        "*   As amostras são oriundas do mesmo grupo em momentos diferentes."
      ],
      "metadata": {
        "id": "pO3LAiMse4F1"
      }
    },
    {
      "cell_type": "markdown",
      "source": [
        "---\n",
        "\n",
        "**Ex. 3)** Uma escola resolveu adotar um método de ensino novo aos seus  alunos. Então, aplicou uma prova antes de aplicar o método. Ao final, aplicou a mesma prova aos alunos, obtendo dois conjuntos de notas, conforme mostrado a seguir. Deseja-se aferir se o novo método de ensino fez diferença no  rendimento dos alunos, ao nível de siginificância de 10%."
      ],
      "metadata": {
        "id": "zVjXMEihsO3J"
      }
    },
    {
      "cell_type": "markdown",
      "source": [
        "*   A estatística teste é dada por \\\\[ t = \\frac{\\bar{x}_1 - \\bar{x}_2}{s_a \\cdot \\sqrt{\\frac{1}{n_1}+\\frac{1}{n_2}} } \\\\]\n",
        "*   Hipótese nula: \\\\( H_0: \\mu_1 = \\mu_2 \\\\)\n",
        "*   Hipótese alternativa: \\\\( H_1: \\mu_1 \\neq \\mu_2 \\\\)"
      ],
      "metadata": {
        "id": "hi2sjBwBsO3N"
      }
    },
    {
      "cell_type": "code",
      "source": [
        "# Teste-t para duas amostras\n",
        "n = 100 # n elementos na amostra\n",
        "ppre, ppos = np.random.rand(2,11) # array 2x11 com probabilidades para as notas antes e depois\n",
        "ppre = ppre / np.sum(ppre) # forçando a soma das probabilidades dar 1\n",
        "ppos = ppos / np.sum(ppos)\n",
        "X1_sample = np.random.choice(11,n,p=ppre) # notas do grupo 1 escolhidas aleatoriamente entre 0 e 10\n",
        "X2_sample = np.random.choice(11,n,p=ppos)\n",
        "\n",
        "# médias amostrais\n",
        "mu1 = np.mean(X1_sample)\n",
        "mu2 = np.mean(X2_sample)\n",
        "print(f'médias: {mu1} , {mu2}')"
      ],
      "metadata": {
        "id": "jJUxFD-HcgaA",
        "colab": {
          "base_uri": "https://localhost:8080/"
        },
        "outputId": "55d74526-b429-4ff7-94c6-cdbf6997a719"
      },
      "execution_count": 15,
      "outputs": [
        {
          "output_type": "stream",
          "name": "stdout",
          "text": [
            "médias: 4.68 , 5.88\n"
          ]
        }
      ]
    },
    {
      "cell_type": "code",
      "source": [
        "# Mostra os valores das amostras\n",
        "print('Notas Antes')\n",
        "print(X1_sample)\n",
        "print('Notas do Depois')\n",
        "print(X2_sample)"
      ],
      "metadata": {
        "colab": {
          "base_uri": "https://localhost:8080/"
        },
        "id": "6AsECakG31kT",
        "outputId": "aca5cfd0-78a8-4f01-cd7b-ce04818eb275"
      },
      "execution_count": 16,
      "outputs": [
        {
          "output_type": "stream",
          "name": "stdout",
          "text": [
            "Notas Antes\n",
            "[10  3  8  1  5  0  0  7  2  9  7  9  0  7  2 10  7  5  3  0  9  1  0  3\n",
            "  1  5  7  2  6  5  2  5  6  2  5  2  1  9  3  2  1 10  2  5  1  9  7  3\n",
            "  9  7  5  9  5  9  3  1 10  2 10  6  2  2  2  3  3  9  7  0  0  5  9  0\n",
            " 10  6  0  7  9  5  5  5  0  7  1  1  7  2 10  6  9  7  1  2  1  6  7  2\n",
            " 10  7  1  7]\n",
            "Notas do Depois\n",
            "[ 0 10  3  9  8  6  0 10  6  9  7  9  1  6  7  7 10  1  7  8  9  6  4  3\n",
            " 10 10  9  3  2 10  8  9  6  9 10  0  9 10  1  9  3  6  0  9  9 10  6 10\n",
            "  5  3  5  9  7  9  6  0  3 10  2  9 10  5  8  4  7  0  4  2  9  0  4  7\n",
            "  6  7  8  6  0  9  9  1  0  1  9  6  6  8  3  3  7  3  4  7 10  3  0  3\n",
            "  6  7  7  7]\n"
          ]
        }
      ]
    },
    {
      "cell_type": "code",
      "source": [
        "# gráfico das distribuições\n",
        "fig, ax = plt.subplots(2, 1, figsize=(8, 4),sharex=True)\n",
        "ax[0].hist(X1_sample, label=\"Antes\", density=True, bins=25)\n",
        "ax[0].legend()\n",
        "\n",
        "ax[1].hist(X2_sample, label=\"Depois\", density=True, bins=25)\n",
        "ax[1].legend()\n",
        "\n",
        "plt.show()"
      ],
      "metadata": {
        "id": "5IJwdinKghvs",
        "colab": {
          "base_uri": "https://localhost:8080/",
          "height": 268
        },
        "outputId": "2dfca7db-8a1d-49c0-8e0e-655e2529a4d6"
      },
      "execution_count": 17,
      "outputs": [
        {
          "output_type": "display_data",
          "data": {
            "text/plain": [
              "<Figure size 576x288 with 2 Axes>"
            ],
            "image/png": "[encoded data removed]"
          },
          "metadata": {}
        }
      ]
    },
    {
      "cell_type": "markdown",
      "source": [
        "Usando o módulo `stats`, basta chamar o comando `scipy.stats.ttest_rel(a, b, equal_var=True, alternative='two-sided')`, em que:\n",
        "*   `a , b` são as amostras para comparar (array)\n",
        "*   `equal_var=True` o padrão `True` assume variâncias iguais e realiza teste-t padrão; se `False`, realiza teste-t de Welch, que não assume variâncias iguais.\n",
        "*   `alternative` define se o teste é unilateral ('less' ou 'greater') ou bilateral ('two-sided'). Por padrão, o teste é bilateral.\n",
        "\n",
        "A saída do comando é a estatística do teste (t) e o valor-p."
      ],
      "metadata": {
        "id": "9cOfh2TfIZuG"
      }
    },
    {
      "cell_type": "code",
      "source": [
        "# Antes de aplicar o teste é preciso avaliar se as variâncias são iguais ou não:\n",
        "print(f'variâncias: {np.var(X1_sample)} , {np.var(X2_sample)}')\n",
        "if np.var(X1_sample)>np.var(X2_sample):\n",
        "  ratio = np.var(X1_sample) / np.var(X2_sample)\n",
        "else:\n",
        "  ratio = np.var(X2_sample) / np.var(X1_sample)\n",
        "\n",
        "# grosso modo, se a razão entre as variâncias for até 4x, podemos adotar variâncias iguais\n",
        "print(f'proporção entre as variâncias = {ratio:.1f}')"
      ],
      "metadata": {
        "id": "AKuYml8Rghds",
        "colab": {
          "base_uri": "https://localhost:8080/"
        },
        "outputId": "96f070bb-1a74-4f84-ed54-90d026ee4893"
      },
      "execution_count": 18,
      "outputs": [
        {
          "output_type": "stream",
          "name": "stdout",
          "text": [
            "variâncias: 10.6576 , 10.605600000000003\n",
            "proporção entre as variâncias = 1.0\n"
          ]
        }
      ]
    },
    {
      "cell_type": "code",
      "source": [
        "# aplicando o teste\n",
        "t, p = stats.ttest_rel(X1_sample, X2_sample)\n",
        "# nível de significância\n",
        "alpha = 0.10\n",
        "# Imprime o resultado do teste\n",
        "print(f'A estatística do teste foi t={t:.4f}, correspondente ao valor-p de {p:.3%}.')\n",
        "if p <= alpha:\n",
        "  print(f'Hipótese nula rejeitada ao nível de significância de {alpha:.1%}.')\n",
        "else:\n",
        "  print(f'Não há evidência suficiente para rejeitar a hipótese nula em favor da hipótese alternativa.')"
      ],
      "metadata": {
        "colab": {
          "base_uri": "https://localhost:8080/"
        },
        "id": "so9IprafFX9u",
        "outputId": "f2752f25-2d3e-4359-cf03-940b169d616c"
      },
      "execution_count": 19,
      "outputs": [
        {
          "output_type": "stream",
          "name": "stdout",
          "text": [
            "A estatística do teste foi t=-2.5398, correspondente ao valor-p de 1.265%.\n",
            "Hipótese nula rejeitada ao nível de significância de 10.0%.\n"
          ]
        }
      ]
    },
    {
      "cell_type": "code",
      "source": [],
      "metadata": {
        "id": "sxcXmjRjFdK-"
      },
      "execution_count": 19,
      "outputs": []
    },
    {
      "cell_type": "markdown",
      "source": [
        "## Análise alternativa do resultado do teste (pelo valor da estatística do teste).\n",
        "![](https://www.dummies.com/wp-content/uploads/362521.image0.jpg)"
      ],
      "metadata": {
        "id": "VHbHjzv4EV4e"
      }
    },
    {
      "cell_type": "code",
      "source": [
        "# Graus de liberdade \n",
        "gl = n - 1\n",
        "# limite inferior da região de aceitação de H0\n",
        "rcinf = stats.t.ppf(alpha / 2 , gl)\n",
        "# limite superior da região de aceitação de H0\n",
        "rcsup = stats.t.ppf(1 - alpha / 2 , gl)\n",
        "# Exibe o intervalo de aceitação\n",
        "print(f'({rcinf} , {rcsup})')"
      ],
      "metadata": {
        "colab": {
          "base_uri": "https://localhost:8080/"
        },
        "outputId": "0585d0c3-f2ea-4b26-dd0d-80c4466f3a79",
        "id": "9xWU7m9Gt8de"
      },
      "execution_count": 20,
      "outputs": [
        {
          "output_type": "stream",
          "name": "stdout",
          "text": [
            "(-1.6603911559963902 , 1.6603911559963895)\n"
          ]
        }
      ]
    },
    {
      "cell_type": "code",
      "source": [
        "# Se o valor do teste (t) bilateral cair abaixo do limite inferior ou acima do limite superior, está na região crítica\n",
        "if t < rcinf or t > rcsup:\n",
        "  print(f'Hipótese nula rejeitada, pois t={t:.4f} está na região crítica ao nível de significância de {alpha:.1%}.')\n",
        "else:\n",
        "  print(f'Não há evidência suficiente para rejeitar a hipótese nula, pois t={t:.4f} está na região de aceitação ao nível de significância de {alpha:.1%}.')"
      ],
      "metadata": {
        "colab": {
          "base_uri": "https://localhost:8080/"
        },
        "outputId": "9e423a88-91d9-4517-9027-7e434a2c2609",
        "id": "BoyUtihjt8de"
      },
      "execution_count": 21,
      "outputs": [
        {
          "output_type": "stream",
          "name": "stdout",
          "text": [
            "Hipótese nula rejeitada, pois t=-2.5398 está na região crítica ao nível de significância de 10.0%.\n"
          ]
        }
      ]
    },
    {
      "cell_type": "code",
      "source": [],
      "metadata": {
        "id": "uFplAtiZ869J"
      },
      "execution_count": 21,
      "outputs": []
    },
    {
      "cell_type": "code",
      "source": [],
      "metadata": {
        "id": "NLwaRS9g86yC"
      },
      "execution_count": 21,
      "outputs": []
    },
    {
      "cell_type": "markdown",
      "source": [
        "# Bônus"
      ],
      "metadata": {
        "id": "6L9O7hQqxNkX"
      }
    },
    {
      "cell_type": "markdown",
      "source": [
        "**Pingouin** é um pacote estatístico de código aberto escrito em Python 3 relativamente novo. Ele foi desenvolvido para usuários que desejam funções de estatísticas simples, mas exaustivas.\n",
        "\n",
        "Por exemplo, o `ttest_ind` da biblioteca SciPy retorna apenas o valor T e o valor p. Por outro lado, a função `ttest` de Pingouin retorna o valor T, o valor p, os graus de liberdade, o tamanho do efeito (d de Cohen), os intervalos de confiança de 95% da diferença nas médias, o poder estatístico e o fator de Bayes (BF10) do teste.\n",
        "\n",
        "A documentação do pacote pode ser consultada em https://pingouin-stats.org/build/html/index.html\n",
        "\n",
        "![](https://pingouin-stats.org/build/html/_images/logo_pingouin.png)"
      ],
      "metadata": {
        "id": "IfXKE07CxRf1"
      }
    },
    {
      "cell_type": "code",
      "source": [
        "# Instalação do pacote\n",
        "!pip install pingouin"
      ],
      "metadata": {
        "colab": {
          "base_uri": "https://localhost:8080/"
        },
        "id": "qOPfPm7Ezos9",
        "outputId": "ed95acda-065a-4ed2-e114-a477907c66d9"
      },
      "execution_count": 22,
      "outputs": [
        {
          "output_type": "stream",
          "name": "stdout",
          "text": [
            "Looking in indexes: https://pypi.org/simple, https://us-python.pkg.dev/colab-wheels/public/simple/\n",
            "Requirement already satisfied: pingouin in /usr/local/lib/python3.8/dist-packages (0.5.3)\n",
            "Requirement already satisfied: numpy>=1.19 in /usr/local/lib/python3.8/dist-packages (from pingouin) (1.21.6)\n",
            "Requirement already satisfied: pandas-flavor>=0.2.0 in /usr/local/lib/python3.8/dist-packages (from pingouin) (0.3.0)\n",
            "Requirement already satisfied: statsmodels>=0.13 in /usr/local/lib/python3.8/dist-packages (from pingouin) (0.13.5)\n",
            "Requirement already satisfied: outdated in /usr/local/lib/python3.8/dist-packages (from pingouin) (0.2.2)\n",
            "Requirement already satisfied: scipy>=1.7 in /usr/local/lib/python3.8/dist-packages (from pingouin) (1.10.0)\n",
            "Requirement already satisfied: seaborn>=0.11 in /usr/local/lib/python3.8/dist-packages (from pingouin) (0.11.2)\n",
            "Requirement already satisfied: tabulate in /usr/local/lib/python3.8/dist-packages (from pingouin) (0.8.10)\n",
            "Requirement already satisfied: scikit-learn in /usr/local/lib/python3.8/dist-packages (from pingouin) (1.0.2)\n",
            "Requirement already satisfied: matplotlib>=3.0.2 in /usr/local/lib/python3.8/dist-packages (from pingouin) (3.2.2)\n",
            "Requirement already satisfied: pandas>=1.0 in /usr/local/lib/python3.8/dist-packages (from pingouin) (1.3.5)\n",
            "Requirement already satisfied: cycler>=0.10 in /usr/local/lib/python3.8/dist-packages (from matplotlib>=3.0.2->pingouin) (0.11.0)\n",
            "Requirement already satisfied: kiwisolver>=1.0.1 in /usr/local/lib/python3.8/dist-packages (from matplotlib>=3.0.2->pingouin) (1.4.4)\n",
            "Requirement already satisfied: python-dateutil>=2.1 in /usr/local/lib/python3.8/dist-packages (from matplotlib>=3.0.2->pingouin) (2.8.2)\n",
            "Requirement already satisfied: pyparsing!=2.0.4,!=2.1.2,!=2.1.6,>=2.0.1 in /usr/local/lib/python3.8/dist-packages (from matplotlib>=3.0.2->pingouin) (3.0.9)\n",
            "Requirement already satisfied: pytz>=2017.3 in /usr/local/lib/python3.8/dist-packages (from pandas>=1.0->pingouin) (2022.7)\n",
            "Requirement already satisfied: lazy-loader==0.1rc2 in /usr/local/lib/python3.8/dist-packages (from pandas-flavor>=0.2.0->pingouin) (0.1rc2)\n",
            "Requirement already satisfied: xarray in /usr/local/lib/python3.8/dist-packages (from pandas-flavor>=0.2.0->pingouin) (2022.12.0)\n",
            "Requirement already satisfied: patsy>=0.5.2 in /usr/local/lib/python3.8/dist-packages (from statsmodels>=0.13->pingouin) (0.5.3)\n",
            "Requirement already satisfied: packaging>=21.3 in /usr/local/lib/python3.8/dist-packages (from statsmodels>=0.13->pingouin) (21.3)\n",
            "Requirement already satisfied: requests in /usr/local/lib/python3.8/dist-packages (from outdated->pingouin) (2.25.1)\n",
            "Requirement already satisfied: littleutils in /usr/local/lib/python3.8/dist-packages (from outdated->pingouin) (0.2.2)\n",
            "Requirement already satisfied: setuptools>=44 in /usr/local/lib/python3.8/dist-packages (from outdated->pingouin) (57.4.0)\n",
            "Requirement already satisfied: threadpoolctl>=2.0.0 in /usr/local/lib/python3.8/dist-packages (from scikit-learn->pingouin) (3.1.0)\n",
            "Requirement already satisfied: joblib>=0.11 in /usr/local/lib/python3.8/dist-packages (from scikit-learn->pingouin) (1.2.0)\n",
            "Requirement already satisfied: six in /usr/local/lib/python3.8/dist-packages (from patsy>=0.5.2->statsmodels>=0.13->pingouin) (1.15.0)\n",
            "Requirement already satisfied: idna<3,>=2.5 in /usr/local/lib/python3.8/dist-packages (from requests->outdated->pingouin) (2.10)\n",
            "Requirement already satisfied: urllib3<1.27,>=1.21.1 in /usr/local/lib/python3.8/dist-packages (from requests->outdated->pingouin) (1.24.3)\n",
            "Requirement already satisfied: certifi>=2017.4.17 in /usr/local/lib/python3.8/dist-packages (from requests->outdated->pingouin) (2022.12.7)\n",
            "Requirement already satisfied: chardet<5,>=3.0.2 in /usr/local/lib/python3.8/dist-packages (from requests->outdated->pingouin) (4.0.0)\n"
          ]
        }
      ]
    },
    {
      "cell_type": "code",
      "source": [
        "# Importação da biblioteca\n",
        "import pingouin as pg"
      ],
      "metadata": {
        "id": "j_9Irih4z5eM"
      },
      "execution_count": 23,
      "outputs": []
    },
    {
      "cell_type": "markdown",
      "source": [
        "## Comando para aplicação do teste t com **pingouin**\n",
        "\n",
        "`pingouin.ttest(x, y, paired=False, alternative='two-sided', correction='auto', r=0.707, confidence=0.95)`\n",
        "\n",
        "Em que:\n",
        "*   `x,y` são os dados amostrais. Para realizar o teste t de uma amostra, basta informar a média populacional no lugar de y.\n",
        "*   `paired` False para teste de amostras independentes (padrão) e True para amostras pareadas.\n",
        "*   `alternative` two-sided para testes bilaterais e greater ou less para testes unilaterais.\n",
        "*   `confidence` é o nível de confiança, por padrão 95%. Ou seja, é o complemento do nível de significância.\n"
      ],
      "metadata": {
        "id": "vOES2oz81qNM"
      }
    },
    {
      "cell_type": "code",
      "source": [
        "# Aplicação do teste t para duas amostras independentes\n",
        "pg.ttest(X1_sample, X2_sample)"
      ],
      "metadata": {
        "colab": {
          "base_uri": "https://localhost:8080/",
          "height": 81
        },
        "id": "ZTEXjLFV0D8U",
        "outputId": "c8eab7cb-4a32-4e50-844e-7e88c14a0253"
      },
      "execution_count": 24,
      "outputs": [
        {
          "output_type": "execute_result",
          "data": {
            "text/plain": [
              "               T  dof alternative     p-val           CI95%   cohen-d   BF10  \\\n",
              "T-test -2.589313  198   two-sided  0.010331  [-2.11, -0.29]  0.366184  3.432   \n",
              "\n",
              "          power  \n",
              "T-test  0.73131  "
            ],
            "text/html": [
              "\n",
              "  <div id=\"df-53c94456-df2e-4d95-9e50-3a52201a1b13\">\n",
              "    <div class=\"colab-df-container\">\n",
              "      <div>\n",
              "<style scoped>\n",
              "    .dataframe tbody tr th:only-of-type {\n",
              "        vertical-align: middle;\n",
              "    }\n",
              "\n",
              "    .dataframe tbody tr th {\n",
              "        vertical-align: top;\n",
              "    }\n",
              "\n",
              "    .dataframe thead th {\n",
              "        text-align: right;\n",
              "    }\n",
              "</style>\n",
              "<table border=\"1\" class=\"dataframe\">\n",
              "  <thead>\n",
              "    <tr style=\"text-align: right;\">\n",
              "      <th></th>\n",
              "      <th>T</th>\n",
              "      <th>dof</th>\n",
              "      <th>alternative</th>\n",
              "      <th>p-val</th>\n",
              "      <th>CI95%</th>\n",
              "      <th>cohen-d</th>\n",
              "      <th>BF10</th>\n",
              "      <th>power</th>\n",
              "    </tr>\n",
              "  </thead>\n",
              "  <tbody>\n",
              "    <tr>\n",
              "      <th>T-test</th>\n",
              "      <td>-2.589313</td>\n",
              "      <td>198</td>\n",
              "      <td>two-sided</td>\n",
              "      <td>0.010331</td>\n",
              "      <td>[-2.11, -0.29]</td>\n",
              "      <td>0.366184</td>\n",
              "      <td>3.432</td>\n",
              "      <td>0.73131</td>\n",
              "    </tr>\n",
              "  </tbody>\n",
              "</table>\n",
              "</div>\n",
              "      <button class=\"colab-df-convert\" onclick=\"convertToInteractive('df-53c94456-df2e-4d95-9e50-3a52201a1b13')\"\n",
              "              title=\"Convert this dataframe to an interactive table.\"\n",
              "              style=\"display:none;\">\n",
              "        \n",
              "  <svg xmlns=\"http://www.w3.org/2000/svg\" height=\"24px\"viewBox=\"0 0 24 24\"\n",
              "       width=\"24px\">\n",
              "    <path d=\"M0 0h24v24H0V0z\" fill=\"none\"/>\n",
              "    <path d=\"M18.56 5.44l.94 2.06.94-2.06 2.06-.94-2.06-.94-.94-2.06-.94 2.06-2.06.94zm-11 1L8.5 8.5l.94-2.06 2.06-.94-2.06-.94L8.5 2.5l-.94 2.06-2.06.94zm10 10l.94 2.06.94-2.06 2.06-.94-2.06-.94-.94-2.06-.94 2.06-2.06.94z\"/><path d=\"M17.41 7.96l-1.37-1.37c-.4-.4-.92-.59-1.43-.59-.52 0-1.04.2-1.43.59L10.3 9.45l-7.72 7.72c-.78.78-.78 2.05 0 2.83L4 21.41c.39.39.9.59 1.41.59.51 0 1.02-.2 1.41-.59l7.78-7.78 2.81-2.81c.8-.78.8-2.07 0-2.86zM5.41 20L4 18.59l7.72-7.72 1.47 1.35L5.41 20z\"/>\n",
              "  </svg>\n",
              "      </button>\n",
              "      \n",
              "  <style>\n",
              "    .colab-df-container {\n",
              "      display:flex;\n",
              "      flex-wrap:wrap;\n",
              "      gap: 12px;\n",
              "    }\n",
              "\n",
              "    .colab-df-convert {\n",
              "      background-color: #E8F0FE;\n",
              "      border: none;\n",
              "      border-radius: 50%;\n",
              "      cursor: pointer;\n",
              "      display: none;\n",
              "      fill: #1967D2;\n",
              "      height: 32px;\n",
              "      padding: 0 0 0 0;\n",
              "      width: 32px;\n",
              "    }\n",
              "\n",
              "    .colab-df-convert:hover {\n",
              "      background-color: #E2EBFA;\n",
              "      box-shadow: 0px 1px 2px rgba(60, 64, 67, 0.3), 0px 1px 3px 1px rgba(60, 64, 67, 0.15);\n",
              "      fill: #174EA6;\n",
              "    }\n",
              "\n",
              "    [theme=dark] .colab-df-convert {\n",
              "      background-color: #3B4455;\n",
              "      fill: #D2E3FC;\n",
              "    }\n",
              "\n",
              "    [theme=dark] .colab-df-convert:hover {\n",
              "      background-color: #434B5C;\n",
              "      box-shadow: 0px 1px 3px 1px rgba(0, 0, 0, 0.15);\n",
              "      filter: drop-shadow(0px 1px 2px rgba(0, 0, 0, 0.3));\n",
              "      fill: #FFFFFF;\n",
              "    }\n",
              "  </style>\n",
              "\n",
              "      <script>\n",
              "        const buttonEl =\n",
              "          document.querySelector('#df-53c94456-df2e-4d95-9e50-3a52201a1b13 button.colab-df-convert');\n",
              "        buttonEl.style.display =\n",
              "          google.colab.kernel.accessAllowed ? 'block' : 'none';\n",
              "\n",
              "        async function convertToInteractive(key) {\n",
              "          const element = document.querySelector('#df-53c94456-df2e-4d95-9e50-3a52201a1b13');\n",
              "          const dataTable =\n",
              "            await google.colab.kernel.invokeFunction('convertToInteractive',\n",
              "                                                     [key], {});\n",
              "          if (!dataTable) return;\n",
              "\n",
              "          const docLinkHtml = 'Like what you see? Visit the ' +\n",
              "            '<a target=\"_blank\" href=https://colab.research.google.com/notebooks/data_table.ipynb>data table notebook</a>'\n",
              "            + ' to learn more about interactive tables.';\n",
              "          element.innerHTML = '';\n",
              "          dataTable['output_type'] = 'display_data';\n",
              "          await google.colab.output.renderOutput(dataTable, element);\n",
              "          const docLink = document.createElement('div');\n",
              "          docLink.innerHTML = docLinkHtml;\n",
              "          element.appendChild(docLink);\n",
              "        }\n",
              "      </script>\n",
              "    </div>\n",
              "  </div>\n",
              "  "
            ]
          },
          "metadata": {},
          "execution_count": 24
        }
      ]
    }
  ]
}