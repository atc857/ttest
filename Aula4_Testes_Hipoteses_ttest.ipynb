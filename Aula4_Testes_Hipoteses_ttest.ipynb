{
  "nbformat": 4,
  "nbformat_minor": 0,
  "metadata": {
    "colab": {
      "provenance": [],
      "toc_visible": true,
      "authorship_tag": "ABX9TyNtK4NTR2P2tsqGJhDXxkGz",
      "include_colab_link": true
    },
    "kernelspec": {
      "name": "python3",
      "display_name": "Python 3"
    },
    "language_info": {
      "name": "python"
    }
  },
  "cells": [
    {
      "cell_type": "markdown",
      "metadata": {
        "id": "view-in-github",
        "colab_type": "text"
      },
      "source": [
        "<a href=\"https://colab.research.google.com/github/atc857/ttest/blob/main/Aula4_Testes_Hipoteses_ttest.ipynb\" target=\"_parent\"><img src=\"https://colab.research.google.com/assets/colab-badge.svg\" alt=\"Open In Colab\"/></a>"
      ]
    },
    {
      "cell_type": "markdown",
      "source": [
        "# Testes de hipóteses utilizando Python\n",
        "\n",
        "Disciplina: Metodologia Científica 2 (Métodos Quantitativos)\n",
        "\n",
        "por André T. Campos"
      ],
      "metadata": {
        "id": "sUCHUjMqXm-A"
      }
    },
    {
      "cell_type": "markdown",
      "source": [
        "O pacote `SciPy` possui ferramentas dedicadas à resolução de problemas típicos de computação científica. Nesta aula utilizaremos especificamente o módulo `stats`, que possui uma vasta gama de funcionalidades para lidar com conceitos estatísticos fundamentais. Para maiores informações sobre as funcionalidades disponíveis, consulte a documentação no link https://docs.scipy.org/doc/scipy/reference/stats.html.\n",
        "\n",
        "![SciPy logo](https://www.fullstackpython.com/img/logos/scipy.png)"
      ],
      "metadata": {
        "id": "7HzIie353WNc"
      }
    },
    {
      "cell_type": "code",
      "source": [
        "# Atualização da biblioteca scipy para a versão mais recente disponível.\n",
        "# Google Colab já vem com a biblioteca instalada, porém, pode não ser a versão mais recente. Portanto, é recomendável atualizar.\n",
        "!pip install --upgrade scipy"
      ],
      "metadata": {
        "colab": {
          "base_uri": "https://localhost:8080/"
        },
        "id": "JQd0GZ7nq0xS",
        "outputId": "9ec3052b-02e7-4182-cd6d-7f1dd0bd5253"
      },
      "execution_count": 1,
      "outputs": [
        {
          "output_type": "stream",
          "name": "stdout",
          "text": [
            "Looking in indexes: https://pypi.org/simple, https://us-python.pkg.dev/colab-wheels/public/simple/\n",
            "Requirement already satisfied: scipy in /usr/local/lib/python3.8/dist-packages (1.10.0)\n",
            "Requirement already satisfied: numpy<1.27.0,>=1.19.5 in /usr/local/lib/python3.8/dist-packages (from scipy) (1.21.6)\n"
          ]
        }
      ]
    },
    {
      "cell_type": "code",
      "execution_count": 2,
      "metadata": {
        "id": "kLN1-r35XSVc"
      },
      "outputs": [],
      "source": [
        "# Importação das bibliotecas necessárias\n",
        "from scipy import stats\n",
        "from scipy import optimize\n",
        "import pandas as pd\n",
        "import numpy as np\n",
        "import matplotlib.pyplot as plt\n",
        "import seaborn as sns"
      ]
    },
    {
      "cell_type": "code",
      "source": [
        "# Configuração do estilo dos gráficos\n",
        "sns.set(style='ticks')"
      ],
      "metadata": {
        "id": "FJgl1o1VXb1-"
      },
      "execution_count": 3,
      "outputs": []
    },
    {
      "cell_type": "code",
      "source": [
        "# Definição de semente para os números aleatórios (reprodutibilidade)\n",
        "np.random.seed(6)"
      ],
      "metadata": {
        "id": "ld-uHsZKYrBG"
      },
      "execution_count": 25,
      "outputs": []
    },
    {
      "cell_type": "markdown",
      "source": [
        "# Teste-t para uma amostra\n",
        "\n",
        "O objetivo deste teste é verificar se a amostra sob análise provém de uma população com a média informada.\n",
        "\n",
        "Suposições:\n",
        "*   A população da qual a amostra foi extraída é normal. Essa exigência pode ser relaxada, pelo teorema central do limite, para amostras de tamanho \\\\( n \\geq 30 \\\\) .\n",
        "*   Se a variância da população é conhecida, utiliza-se o *teste-z*. Se a variância é desconhecida, utiliza-se o *teste-t*. Normalmente o segundo caso é o mais comum.\n"
      ],
      "metadata": {
        "id": "BLwJ47Z7KX9Z"
      }
    },
    {
      "cell_type": "markdown",
      "source": [
        "---\n",
        "\n",
        "**Ex. 1)** Desejamos avaliar se uma amostra fornecida de \\\\(n=40\\\\) pneus (`X_samples`) tem média de durabilidade \\\\( \\mu_0 = 60000 \\\\) quilômetros.\n"
      ],
      "metadata": {
        "id": "sgH4cThiEMzX"
      }
    },
    {
      "cell_type": "markdown",
      "source": [
        "*   A estatística teste é dada por \\\\[ t = \\frac{\\bar{x} - \\mu_0}{s / \\sqrt{n} } \\\\]\n",
        "*   Hipótese nula: \\\\( H_0: \\mu = \\mu_0 \\\\)\n",
        "*   Hipótese alternativa: \\\\( H_1: \\mu \\neq \\mu_0 \\\\)"
      ],
      "metadata": {
        "id": "MNr75EjwQgQ7"
      }
    },
    {
      "cell_type": "code",
      "source": [
        "# Gera uma amostra aleatória de n elementos a partir de população normal com média mu e desvio-padrão sigma\n",
        "mu, sigma = 55000, 10000\n",
        "X = stats.norm(mu, sigma)\n",
        "n = 40\n",
        "X_samples = X.rvs(n) \n",
        "\n",
        "# Plota o histograma da amostra\n",
        "plt.hist(X_samples, density=True, bins=20)\n",
        "plt.title('Histograma')\n",
        "plt.show()\n",
        "\n",
        "# Mostra os valores da amostra\n",
        "print(X_samples)"
      ],
      "metadata": {
        "colab": {
          "base_uri": "https://localhost:8080/",
          "height": 458
        },
        "id": "_ZluvOD_bqTf",
        "outputId": "3bdf9d5a-67f4-4949-e259-1524d6ced2b9"
      },
      "execution_count": 26,
      "outputs": [
        {
          "output_type": "display_data",
          "data": {
            "text/plain": [
              "<Figure size 432x288 with 1 Axes>"
            ],
            "image/png": "[encoded data removed]"
          },
          "metadata": {}
        },
        {
          "output_type": "stream",
          "name": "stdout",
          "text": [
            "[51882.16326512 62290.03923613 57178.20788076 46009.08203453\n",
            " 30132.19348372 64132.51521236 66270.63725972 39859.0677137\n",
            " 71392.91082938 50701.06396994 81312.80557264 61018.22249956\n",
            " 51641.18385058 67377.37843226 56111.28166767 56291.51247904\n",
            " 55761.27612215 53448.71841441 61342.25343168 63106.55003426\n",
            " 58548.08608972 73125.9031381  41435.24195721 50363.68034109\n",
            " 63246.53844644 43235.68519583 70644.89659583 62127.05094535\n",
            " 53189.93402138 60341.99525587 49133.87040182 40181.46731211\n",
            " 63572.47618437 64430.98987373 56144.41434269 54780.43316406\n",
            " 33728.55453492 46655.92531795 50344.91690051 57337.10590766]\n"
          ]
        }
      ]
    },
    {
      "cell_type": "markdown",
      "source": [
        "Usando o módulo `stats`, basta chamar o comando `scipy.stats.ttest_1samp(a, popmean, alternative='two-sided')`, em que:\n",
        "*   `a` é a amostra (array)\n",
        "*   `popmean` é a média populacional alegada\n",
        "*   `alternative` define se o teste é unilateral ('less' ou 'greater') ou bilateral ('two-sided'). Por padrão, o teste é bilateral.\n",
        "\n",
        "A saída do comando é a estatística do teste (t) e o valor-p."
      ],
      "metadata": {
        "id": "11ijDaJNZ72F"
      }
    },
    {
      "cell_type": "code",
      "source": [
        "# A média alegada para os pneus é de 60.000 km\n",
        "mu0 = 60000\n",
        "# Adotando nível de significância de 5%\n",
        "alpha = 0.05\n",
        "# Armazena a saída do teste-t numa tupla\n",
        "t, p = stats.ttest_1samp(X_samples, mu0)\n",
        "\n",
        "# Imprime o resultado do teste\n",
        "print(f'A estatística do teste foi t={t:.4f}, correspondente ao valor-p de {p:.3%}.')\n",
        "# Análise do resultado do teste\n",
        "if p <= alpha:\n",
        "  print(f'Hipótese nula rejeitada ao nível de significância de {alpha:.1%}.')\n",
        "else:\n",
        "  print(f'Não há evidência suficiente para rejeitar a hipótese nula em favor da hipótese alternativa.')"
      ],
      "metadata": {
        "colab": {
          "base_uri": "https://localhost:8080/"
        },
        "id": "Ntyz2-QaO8IZ",
        "outputId": "fb93e774-9258-42ab-9388-e10e511b345f"
      },
      "execution_count": 27,
      "outputs": [
        {
          "output_type": "stream",
          "name": "stdout",
          "text": [
            "A estatística do teste foi t=-2.3560, correspondente ao valor-p de 2.359%.\n",
            "Hipótese nula rejeitada ao nível de significância de 5.0%.\n"
          ]
        }
      ]
    },
    {
      "cell_type": "code",
      "source": [],
      "metadata": {
        "id": "InqRDJs5adly"
      },
      "execution_count": 27,
      "outputs": []
    },
    {
      "cell_type": "markdown",
      "source": [
        "## Análise alternativa do resultado do teste (pelo valor da estatística do teste).\n",
        "![](https://www.dummies.com/wp-content/uploads/362521.image0.jpg)"
      ],
      "metadata": {
        "id": "lHez_aXWRerR"
      }
    },
    {
      "cell_type": "code",
      "source": [
        "# Graus de liberdade \n",
        "gl = n - 1\n",
        "# limite inferior da região de aceitação de H0\n",
        "rcinf = stats.t.ppf(alpha / 2 , gl)\n",
        "# limite superior da região de aceitação de H0\n",
        "rcsup = stats.t.ppf(1 - alpha / 2 , gl)\n",
        "# Exibe o intervalo de aceitação\n",
        "print(f'({rcinf} , {rcsup})')"
      ],
      "metadata": {
        "colab": {
          "base_uri": "https://localhost:8080/"
        },
        "id": "ge9E33xKRdDz",
        "outputId": "f8247d19-b441-490b-fa4b-baff9d020416"
      },
      "execution_count": 28,
      "outputs": [
        {
          "output_type": "stream",
          "name": "stdout",
          "text": [
            "(-2.0226909117347285 , 2.022690911734728)\n"
          ]
        }
      ]
    },
    {
      "cell_type": "code",
      "source": [
        "# Se o valor do teste (t) bilateral cair abaixo do limite inferior ou acima do limite superior, está na região crítica\n",
        "if t < rcinf or t > rcsup:\n",
        "  print(f'Hipótese nula rejeitada, pois t={t:.5f} está na região crítica ao nível de significância de {alpha:.1%}.')\n",
        "else:\n",
        "  print(f'Não há evidência suficiente para rejeitar a hipótese nula, pois t={t:.5f} está na região de aceitação ao nível de significância de {alpha:.1%}.')"
      ],
      "metadata": {
        "colab": {
          "base_uri": "https://localhost:8080/"
        },
        "id": "mPL3b5b7Uguz",
        "outputId": "df722c0d-f4e4-40aa-a11e-32cd61c2bacb"
      },
      "execution_count": 29,
      "outputs": [
        {
          "output_type": "stream",
          "name": "stdout",
          "text": [
            "Hipótese nula rejeitada, pois t=-2.35599 está na região crítica ao nível de significância de 5.0%.\n"
          ]
        }
      ]
    },
    {
      "cell_type": "code",
      "source": [],
      "metadata": {
        "id": "8wF4xiasafui"
      },
      "execution_count": 29,
      "outputs": []
    },
    {
      "cell_type": "markdown",
      "source": [
        "# Teste-t para duas amostras independentes\n",
        "\n",
        "O objetivo do teste é verificar se a diferença entre médias de duas amostras provém de populações com médias diferentes ou não.\n",
        "\n",
        "Suposições:\n",
        "*   As duas amostras provém de populações com distribuição normal. Essa exigência pode ser relaxada, pelo teorema central do limite, para amostras de tamanho \\\\( n_1 + n_2 - 2 \\geq 30 \\\\) .\n",
        "*   As variâncias das populações devem ser aproximadamente iguais. Grosso modo, se a razão entre as variâncias for de até 4x, podemos adotar variâncias iguais.\n",
        "*   As amostras são oriundas de dois grupos diferentes (independentes)."
      ],
      "metadata": {
        "id": "4z064boTcYwY"
      }
    },
    {
      "cell_type": "markdown",
      "source": [
        "---\n",
        "\n",
        "**Ex. 2)** Sejam dois métodos de ensino, A e B. Uma escola separou os alunos em dois grupos e adotou um método para cada grupo. Ao final, aplicou a mesma prova a todos os alunos, obtendo dois conjuntos de notas, conforme mostrado a seguir. Deseja-se aferir se há diferença de rendimento entre os métodos aplicados, ao nível de siginificância de 10%."
      ],
      "metadata": {
        "id": "L2jIhVixrVkU"
      }
    },
    {
      "cell_type": "markdown",
      "source": [
        "*   A estatística teste é dada por \\\\[ t = \\frac{\\bar{x}_1 - \\bar{x}_2}{s_a \\cdot \\sqrt{\\frac{1}{n_1}+\\frac{1}{n_2}} } \\\\]\n",
        "*   Hipótese nula: \\\\( H_0: \\mu_1 = \\mu_2 \\\\)\n",
        "*   Hipótese alternativa: \\\\( H_1: \\mu_1 \\neq \\mu_2 \\\\)"
      ],
      "metadata": {
        "id": "KRYGldD9tAh0"
      }
    },
    {
      "cell_type": "code",
      "source": [
        "# Amostragem de n elementos a partir de duas distribuições normais com médias mu1 e mu2 e desvio-padrão sigma\n",
        "n = 25\n",
        "ppre, ppos = np.random.rand(2,11) # array 2x11 com probabilidades para as notas A e B\n",
        "ppre = ppre / np.sum(ppre) # forçando a soma das probabilidades dar 1\n",
        "ppos = ppos / np.sum(ppos)\n",
        "X1_sample = np.random.choice(11,n,p=ppre) # notas do grupo 1 escolhidas aleatoriamente entre 0 e 10\n",
        "X2_sample = np.random.choice(11,n,p=ppos)\n",
        "\n",
        "# médias amostrais\n",
        "mu1 = np.mean(X1_sample)\n",
        "mu2 = np.mean(X2_sample)\n",
        "print(f'médias: {mu1} , {mu2}')"
      ],
      "metadata": {
        "colab": {
          "base_uri": "https://localhost:8080/"
        },
        "id": "jn2LQ-I6yBe7",
        "outputId": "1aac65a2-b4f8-466e-a684-96840329486d"
      },
      "execution_count": 30,
      "outputs": [
        {
          "output_type": "stream",
          "name": "stdout",
          "text": [
            "médias: 4.0 , 4.92\n"
          ]
        }
      ]
    },
    {
      "cell_type": "code",
      "source": [
        "# Mostra os valores das amostras\n",
        "print('Notas do grupo A')\n",
        "print(X1_sample)\n",
        "print('Notas do grupo B')\n",
        "print(X2_sample)"
      ],
      "metadata": {
        "colab": {
          "base_uri": "https://localhost:8080/"
        },
        "id": "3RdbgjbvjfvS",
        "outputId": "70979d73-02ff-42d7-d58e-6621ddfc03b3"
      },
      "execution_count": 31,
      "outputs": [
        {
          "output_type": "stream",
          "name": "stdout",
          "text": [
            "Notas do grupo A\n",
            "[ 1  7  0  1 10  3  1  7  1  7  2  0 10  0  5  2  7 10  6  6  1  7  1  5\n",
            "  0]\n",
            "Notas do grupo B\n",
            "[ 2  9  5  5  3  9  2  1  5  2  8  1  8  6  0  5  7 10  8  8  5  0  9  0\n",
            "  5]\n"
          ]
        }
      ]
    },
    {
      "cell_type": "code",
      "source": [
        "# histograma das amostras\n",
        "fig, ax = plt.subplots(2, 1, figsize=(8, 4),sharex=True)\n",
        "ax[0].hist(X1_sample, label=\"Grupo A\", density=True, bins=20)\n",
        "ax[0].legend()\n",
        "\n",
        "ax[1].hist(X2_sample, label=\"Grupo B\", density=True, bins=20)\n",
        "ax[1].legend()\n",
        "\n",
        "plt.show()"
      ],
      "metadata": {
        "id": "LoBRHF0jTd9y",
        "colab": {
          "base_uri": "https://localhost:8080/",
          "height": 268
        },
        "outputId": "8903ee78-e864-44d9-fb0b-cea824cb4ee1"
      },
      "execution_count": 32,
      "outputs": [
        {
          "output_type": "display_data",
          "data": {
            "text/plain": [
              "<Figure size 576x288 with 2 Axes>"
            ],
            "image/png": "[encoded data removed]"
          },
          "metadata": {}
        }
      ]
    },
    {
      "cell_type": "markdown",
      "source": [
        "Usando o módulo `stats`, basta chamar o comando `scipy.stats.ttest_ind(a, b, equal_var=True, alternative='two-sided')`, em que:\n",
        "*   `a , b` são as amostras para comparar (array)\n",
        "*   `equal_var=True` o padrão `True` assume variâncias iguais e realiza teste-t padrão; se `False`, realiza teste-t de Welch, que não assume variâncias iguais.\n",
        "*   `alternative` define se o teste é unilateral ('less' ou 'greater') ou bilateral ('two-sided'). Por padrão, o teste é bilateral.\n",
        "\n",
        "A saída do comando é a estatística do teste (t) e o valor-p."
      ],
      "metadata": {
        "id": "Rp8F_td5dUHb"
      }
    },
    {
      "cell_type": "code",
      "source": [
        "# Antes de aplicar o teste é preciso avaliar se as variâncias são iguais ou não:\n",
        "print(f'variâncias: {np.var(X1_sample)} , {np.var(X2_sample)}')\n",
        "if np.var(X1_sample)>np.var(X2_sample):\n",
        "  ratio = np.var(X1_sample) / np.var(X2_sample)\n",
        "else:\n",
        "  ratio = np.var(X2_sample) / np.var(X1_sample)\n",
        "\n",
        "# grosso modo, se a razão entre as variâncias for até 4x, podemos adotar variâncias iguais\n",
        "print(f'proporção entre as variâncias = {ratio:.1f}')"
      ],
      "metadata": {
        "colab": {
          "base_uri": "https://localhost:8080/"
        },
        "id": "XAbAbgW3Ytxj",
        "outputId": "ad02ce41-aa47-4820-92b5-203c625fe53f"
      },
      "execution_count": 33,
      "outputs": [
        {
          "output_type": "stream",
          "name": "stdout",
          "text": [
            "variâncias: 11.6 , 10.073599999999999\n",
            "proporção entre as variâncias = 1.2\n"
          ]
        }
      ]
    },
    {
      "cell_type": "code",
      "source": [
        "# aplicando o teste\n",
        "t, p = stats.ttest_ind(X1_sample, X2_sample)\n",
        "# nível de significância\n",
        "alpha = 0.10\n",
        "# Imprime o resultado do teste\n",
        "print(f'A estatística do teste foi t={t:.4f}, correspondente ao valor-p de {p:.3%}.')\n",
        "if p <= alpha:\n",
        "  print(f'Hipótese nula rejeitada ao nível de significância de {alpha:.1%}.')\n",
        "else:\n",
        "  print(f'Não há evidência suficiente para rejeitar a hipótese nula em favor da hipótese alternativa.')"
      ],
      "metadata": {
        "id": "E5JP1zKTcgrf",
        "colab": {
          "base_uri": "https://localhost:8080/"
        },
        "outputId": "3b58657e-fe6c-45f9-fc93-aa48a757ec72"
      },
      "execution_count": 34,
      "outputs": [
        {
          "output_type": "stream",
          "name": "stdout",
          "text": [
            "A estatística do teste foi t=-0.9681, correspondente ao valor-p de 33.784%.\n",
            "Não há evidência suficiente para rejeitar a hipótese nula em favor da hipótese alternativa.\n"
          ]
        }
      ]
    },
    {
      "cell_type": "code",
      "source": [],
      "metadata": {
        "id": "A-e6dmTlcgoH"
      },
      "execution_count": 34,
      "outputs": []
    },
    {
      "cell_type": "markdown",
      "source": [
        "## Análise alternativa do resultado do teste (pelo valor da estatística do teste).\n",
        "![](https://www.dummies.com/wp-content/uploads/362521.image0.jpg)"
      ],
      "metadata": {
        "id": "u5SljKlqDsWe"
      }
    },
    {
      "cell_type": "code",
      "source": [
        "# Graus de liberdade \n",
        "n1 , n2 = n , n\n",
        "gl = n1 + n2 - 2\n",
        "# limite inferior da região de aceitação de H0\n",
        "rcinf = stats.t.ppf(alpha / 2 , gl)\n",
        "# limite superior da região de aceitação de H0\n",
        "rcsup = stats.t.ppf(1 - alpha / 2 , gl)\n",
        "# Exibe o intervalo de aceitação\n",
        "print(f'({rcinf} , {rcsup})')"
      ],
      "metadata": {
        "colab": {
          "base_uri": "https://localhost:8080/"
        },
        "outputId": "0fd664eb-dc81-4791-e4ca-1cfd57472353",
        "id": "HpXuH-kJgYB7"
      },
      "execution_count": 35,
      "outputs": [
        {
          "output_type": "stream",
          "name": "stdout",
          "text": [
            "(-1.6772241953450402 , 1.6772241953450393)\n"
          ]
        }
      ]
    },
    {
      "cell_type": "code",
      "source": [
        "# Se o valor do teste (t) bilateral cair abaixo do limite inferior ou acima do limite superior, está na região crítica\n",
        "if t < rcinf or t > rcsup:\n",
        "  print(f'Hipótese nula rejeitada, pois t={t:.4f} está na região crítica ao nível de significância de {alpha:.1%}.')\n",
        "else:\n",
        "  print(f'Não há evidência suficiente para rejeitar a hipótese nula, pois t={t:.4f} está na região de aceitação ao nível de significância de {alpha:.1%}.')"
      ],
      "metadata": {
        "colab": {
          "base_uri": "https://localhost:8080/"
        },
        "outputId": "d63b8e7a-3e25-44de-cd21-91ad32e5c9c2",
        "id": "HsBtBdUBgk3q"
      },
      "execution_count": 36,
      "outputs": [
        {
          "output_type": "stream",
          "name": "stdout",
          "text": [
            "Não há evidência suficiente para rejeitar a hipótese nula, pois t=-0.9681 está na região de aceitação ao nível de significância de 10.0%.\n"
          ]
        }
      ]
    },
    {
      "cell_type": "markdown",
      "source": [
        "# Teste-t para duas amostras pareadas\n",
        "\n",
        "Verificar se a diferença entre médias de duas amostras provém de populações com médias diferentes ou não.\n",
        "\n",
        "Suposições:\n",
        "*   As duas amostras provém de populações com distribuição normal. Essa exigência pode ser relaxada, pelo teorema central do limite, para amostras de tamanho \\\\( n_1 + n_2 - 2 \\geq 30 \\\\) .\n",
        "*   As variâncias das populações devem ser aproximadamente iguais. Grosso modo, se a razão entre as variâncias for de até 4x, podemos adotar variâncias iguais.\n",
        "*   As amostras são oriundas do mesmo grupo em momentos diferentes."
      ],
      "metadata": {
        "id": "pO3LAiMse4F1"
      }
    },
    {
      "cell_type": "markdown",
      "source": [
        "---\n",
        "\n",
        "**Ex. 3)** Uma escola resolveu adotar um método de ensino novo aos seus  alunos. Então, aplicou uma prova antes de aplicar o método. Ao final, aplicou a mesma prova aos alunos, obtendo dois conjuntos de notas, conforme mostrado a seguir. Deseja-se aferir se o novo método de ensino fez diferença no  rendimento dos alunos, ao nível de siginificância de 10%."
      ],
      "metadata": {
        "id": "zVjXMEihsO3J"
      }
    },
    {
      "cell_type": "markdown",
      "source": [
        "*   A estatística teste é dada por \\\\[ t = \\frac{\\bar{x}_1 - \\bar{x}_2}{s_a \\cdot \\sqrt{\\frac{1}{n_1}+\\frac{1}{n_2}} } \\\\]\n",
        "*   Hipótese nula: \\\\( H_0: \\mu_1 = \\mu_2 \\\\)\n",
        "*   Hipótese alternativa: \\\\( H_1: \\mu_1 \\neq \\mu_2 \\\\)"
      ],
      "metadata": {
        "id": "hi2sjBwBsO3N"
      }
    },
    {
      "cell_type": "code",
      "source": [
        "# Teste-t para duas amostras\n",
        "n = 100 # n elementos na amostra\n",
        "ppre, ppos = np.random.rand(2,11) # array 2x11 com probabilidades para as notas antes e depois\n",
        "ppre = ppre / np.sum(ppre) # forçando a soma das probabilidades dar 1\n",
        "ppos = ppos / np.sum(ppos)\n",
        "X1_sample = np.random.choice(11,n,p=ppre) # notas do grupo 1 escolhidas aleatoriamente entre 0 e 10\n",
        "X2_sample = np.random.choice(11,n,p=ppos)\n",
        "\n",
        "# médias amostrais\n",
        "mu1 = np.mean(X1_sample)\n",
        "mu2 = np.mean(X2_sample)\n",
        "print(f'médias: {mu1} , {mu2}')"
      ],
      "metadata": {
        "id": "jJUxFD-HcgaA",
        "colab": {
          "base_uri": "https://localhost:8080/"
        },
        "outputId": "704b53c0-18cc-4806-8635-002d7799c920"
      },
      "execution_count": 37,
      "outputs": [
        {
          "output_type": "stream",
          "name": "stdout",
          "text": [
            "médias: 4.38 , 6.3\n"
          ]
        }
      ]
    },
    {
      "cell_type": "code",
      "source": [
        "# Mostra os valores das amostras\n",
        "print('Notas Antes')\n",
        "print(X1_sample)\n",
        "print('Notas do Depois')\n",
        "print(X2_sample)"
      ],
      "metadata": {
        "colab": {
          "base_uri": "https://localhost:8080/"
        },
        "id": "6AsECakG31kT",
        "outputId": "58cac023-6842-4f93-96a8-5930ec637ec0"
      },
      "execution_count": 38,
      "outputs": [
        {
          "output_type": "stream",
          "name": "stdout",
          "text": [
            "Notas Antes\n",
            "[10  3  2 10  5 10 10  7  0  5  3  0  3  1  7 10  0  3  3  0 10  3  3  0\n",
            "  3  8 10  5  3  0  7  0  3  4  3  7  4  4  8 10  3  0  6  3  0  0  4  0\n",
            "  1  7  4  0  2 10  0  5  5  7  5  7  7  5  1  7  3  7  5  0  9  4 10  0\n",
            "  0  7  0  4  7  4  1  7  0  3  2  4  3  8  7  7  0  5  7 10  6  3  3  5\n",
            "  7  3  7  4]\n",
            "Notas do Depois\n",
            "[ 9  8 10  3  9 10  7  0  0  5  6  6  8  8  9  4  8  5  8  7  8  5  8 10\n",
            "  8  3  1  8  4  4 10  9  9  4  8  8  3  8 10  0  3  4  9  6  0  4  9  8\n",
            "  3  8  4  3 10  3  8 10  8  6  5  0  1  6 10  3 10  9  3  4  6  9  8  9\n",
            "  6  7  6  3  8  7  9 10  7  8  5  8 10 10  3 10  0  0  3  4 10 10  8  8\n",
            " 10  7  3  3]\n"
          ]
        }
      ]
    },
    {
      "cell_type": "code",
      "source": [
        "# gráfico das distribuições\n",
        "fig, ax = plt.subplots(2, 1, figsize=(8, 4),sharex=True)\n",
        "ax[0].hist(X1_sample, label=\"Antes\", density=True, bins=25)\n",
        "ax[0].legend()\n",
        "\n",
        "ax[1].hist(X2_sample, label=\"Depois\", density=True, bins=25)\n",
        "ax[1].legend()\n",
        "\n",
        "plt.show()"
      ],
      "metadata": {
        "id": "5IJwdinKghvs",
        "colab": {
          "base_uri": "https://localhost:8080/",
          "height": 268
        },
        "outputId": "4292be7e-41f9-4a97-df2a-cf565c13b5d5"
      },
      "execution_count": 39,
      "outputs": [
        {
          "output_type": "display_data",
          "data": {
            "text/plain": [
              "<Figure size 576x288 with 2 Axes>"
            ],
            "image/png": "[encoded data removed]"
          },
          "metadata": {}
        }
      ]
    },
    {
      "cell_type": "markdown",
      "source": [
        "Usando o módulo `stats`, basta chamar o comando `scipy.stats.ttest_rel(a, b, equal_var=True, alternative='two-sided')`, em que:\n",
        "*   `a , b` são as amostras para comparar (array)\n",
        "*   `equal_var=True` o padrão `True` assume variâncias iguais e realiza teste-t padrão; se `False`, realiza teste-t de Welch, que não assume variâncias iguais.\n",
        "*   `alternative` define se o teste é unilateral ('less' ou 'greater') ou bilateral ('two-sided'). Por padrão, o teste é bilateral.\n",
        "\n",
        "A saída do comando é a estatística do teste (t) e o valor-p."
      ],
      "metadata": {
        "id": "9cOfh2TfIZuG"
      }
    },
    {
      "cell_type": "code",
      "source": [
        "# Antes de aplicar o teste é preciso avaliar se as variâncias são iguais ou não:\n",
        "print(f'variâncias: {np.var(X1_sample)} , {np.var(X2_sample)}')\n",
        "if np.var(X1_sample)>np.var(X2_sample):\n",
        "  ratio = np.var(X1_sample) / np.var(X2_sample)\n",
        "else:\n",
        "  ratio = np.var(X2_sample) / np.var(X1_sample)\n",
        "\n",
        "# grosso modo, se a razão entre as variâncias for até 4x, podemos adotar variâncias iguais\n",
        "print(f'proporção entre as variâncias = {ratio:.1f}')"
      ],
      "metadata": {
        "id": "AKuYml8Rghds",
        "colab": {
          "base_uri": "https://localhost:8080/"
        },
        "outputId": "c9c21df1-3abb-4fb0-8e97-f0befea2e8f8"
      },
      "execution_count": 40,
      "outputs": [
        {
          "output_type": "stream",
          "name": "stdout",
          "text": [
            "variâncias: 10.055600000000002 , 9.09\n",
            "proporção entre as variâncias = 1.1\n"
          ]
        }
      ]
    },
    {
      "cell_type": "code",
      "source": [
        "# aplicando o teste\n",
        "t, p = stats.ttest_rel(X1_sample, X2_sample)\n",
        "# nível de significância\n",
        "alpha = 0.10\n",
        "# Imprime o resultado do teste\n",
        "print(f'A estatística do teste foi t={t:.4f}, correspondente ao valor-p de {p:.3%}.')\n",
        "if p <= alpha:\n",
        "  print(f'Hipótese nula rejeitada ao nível de significância de {alpha:.1%}.')\n",
        "else:\n",
        "  print(f'Não há evidência suficiente para rejeitar a hipótese nula em favor da hipótese alternativa.')"
      ],
      "metadata": {
        "colab": {
          "base_uri": "https://localhost:8080/"
        },
        "id": "so9IprafFX9u",
        "outputId": "bc7fd361-2e48-483b-fb95-4feccc70ee3c"
      },
      "execution_count": 41,
      "outputs": [
        {
          "output_type": "stream",
          "name": "stdout",
          "text": [
            "A estatística do teste foi t=-4.2724, correspondente ao valor-p de 0.004%.\n",
            "Hipótese nula rejeitada ao nível de significância de 10.0%.\n"
          ]
        }
      ]
    },
    {
      "cell_type": "code",
      "source": [],
      "metadata": {
        "id": "sxcXmjRjFdK-"
      },
      "execution_count": 41,
      "outputs": []
    },
    {
      "cell_type": "markdown",
      "source": [
        "## Análise alternativa do resultado do teste (pelo valor da estatística do teste).\n",
        "![](https://www.dummies.com/wp-content/uploads/362521.image0.jpg)"
      ],
      "metadata": {
        "id": "VHbHjzv4EV4e"
      }
    },
    {
      "cell_type": "code",
      "source": [
        "# Graus de liberdade \n",
        "n1 , n2 = n , n\n",
        "gl = n1 + n2 - 2\n",
        "# limite inferior da região de aceitação de H0\n",
        "rcinf = stats.t.ppf(alpha / 2 , gl)\n",
        "# limite superior da região de aceitação de H0\n",
        "rcsup = stats.t.ppf(1 - alpha / 2 , gl)\n",
        "# Exibe o intervalo de aceitação\n",
        "print(f'({rcinf} , {rcsup})')"
      ],
      "metadata": {
        "colab": {
          "base_uri": "https://localhost:8080/"
        },
        "outputId": "040b0a8d-3cb5-405b-c5a5-8c626c25c181",
        "id": "9xWU7m9Gt8de"
      },
      "execution_count": 42,
      "outputs": [
        {
          "output_type": "stream",
          "name": "stdout",
          "text": [
            "(-1.6525857836172082 , 1.6525857836172075)\n"
          ]
        }
      ]
    },
    {
      "cell_type": "code",
      "source": [
        "# Se o valor do teste (t) bilateral cair abaixo do limite inferior ou acima do limite superior, está na região crítica\n",
        "if t < rcinf or t > rcsup:\n",
        "  print(f'Hipótese nula rejeitada, pois t={t:.4f} está na região crítica ao nível de significância de {alpha:.1%}.')\n",
        "else:\n",
        "  print(f'Não há evidência suficiente para rejeitar a hipótese nula, pois t={t:.4f} está na região de aceitação ao nível de significância de {alpha:.1%}.')"
      ],
      "metadata": {
        "colab": {
          "base_uri": "https://localhost:8080/"
        },
        "outputId": "933e3b2f-a155-463c-db1c-75db44090639",
        "id": "BoyUtihjt8de"
      },
      "execution_count": 43,
      "outputs": [
        {
          "output_type": "stream",
          "name": "stdout",
          "text": [
            "Hipótese nula rejeitada, pois t=-4.2724 está na região crítica ao nível de significância de 10.0%.\n"
          ]
        }
      ]
    },
    {
      "cell_type": "code",
      "source": [],
      "metadata": {
        "id": "uFplAtiZ869J"
      },
      "execution_count": 43,
      "outputs": []
    },
    {
      "cell_type": "code",
      "source": [],
      "metadata": {
        "id": "NLwaRS9g86yC"
      },
      "execution_count": 43,
      "outputs": []
    },
    {
      "cell_type": "markdown",
      "source": [
        "# Bônus"
      ],
      "metadata": {
        "id": "6L9O7hQqxNkX"
      }
    },
    {
      "cell_type": "markdown",
      "source": [
        "**Pingouin** é um pacote estatístico de código aberto escrito em Python 3 relativamente novo. Ele foi desenvolvido para usuários que desejam funções de estatísticas simples, mas exaustivas.\n",
        "\n",
        "Por exemplo, o `ttest_ind` da biblioteca SciPy retorna apenas o valor T e o valor p. Por outro lado, a função `ttest` de Pingouin retorna o valor T, o valor p, os graus de liberdade, o tamanho do efeito (d de Cohen), os intervalos de confiança de 95% da diferença nas médias, o poder estatístico e o fator de Bayes (BF10) do teste.\n",
        "\n",
        "A documentação do pacote pode ser consultada em https://pingouin-stats.org/build/html/index.html\n",
        "\n",
        "![](https://pingouin-stats.org/build/html/_images/logo_pingouin.png)"
      ],
      "metadata": {
        "id": "IfXKE07CxRf1"
      }
    },
    {
      "cell_type": "code",
      "source": [
        "# Instalação do pacote\n",
        "!pip install pingouin"
      ],
      "metadata": {
        "colab": {
          "base_uri": "https://localhost:8080/"
        },
        "id": "qOPfPm7Ezos9",
        "outputId": "1655305b-4848-476c-958a-deaea4a6f3cb"
      },
      "execution_count": 44,
      "outputs": [
        {
          "output_type": "stream",
          "name": "stdout",
          "text": [
            "Looking in indexes: https://pypi.org/simple, https://us-python.pkg.dev/colab-wheels/public/simple/\n",
            "Requirement already satisfied: pingouin in /usr/local/lib/python3.8/dist-packages (0.5.3)\n",
            "Requirement already satisfied: numpy>=1.19 in /usr/local/lib/python3.8/dist-packages (from pingouin) (1.21.6)\n",
            "Requirement already satisfied: matplotlib>=3.0.2 in /usr/local/lib/python3.8/dist-packages (from pingouin) (3.2.2)\n",
            "Requirement already satisfied: seaborn>=0.11 in /usr/local/lib/python3.8/dist-packages (from pingouin) (0.11.2)\n",
            "Requirement already satisfied: statsmodels>=0.13 in /usr/local/lib/python3.8/dist-packages (from pingouin) (0.13.5)\n",
            "Requirement already satisfied: tabulate in /usr/local/lib/python3.8/dist-packages (from pingouin) (0.8.10)\n",
            "Requirement already satisfied: pandas-flavor>=0.2.0 in /usr/local/lib/python3.8/dist-packages (from pingouin) (0.3.0)\n",
            "Requirement already satisfied: scipy>=1.7 in /usr/local/lib/python3.8/dist-packages (from pingouin) (1.10.0)\n",
            "Requirement already satisfied: scikit-learn in /usr/local/lib/python3.8/dist-packages (from pingouin) (1.0.2)\n",
            "Requirement already satisfied: pandas>=1.0 in /usr/local/lib/python3.8/dist-packages (from pingouin) (1.3.5)\n",
            "Requirement already satisfied: outdated in /usr/local/lib/python3.8/dist-packages (from pingouin) (0.2.2)\n",
            "Requirement already satisfied: pyparsing!=2.0.4,!=2.1.2,!=2.1.6,>=2.0.1 in /usr/local/lib/python3.8/dist-packages (from matplotlib>=3.0.2->pingouin) (3.0.9)\n",
            "Requirement already satisfied: cycler>=0.10 in /usr/local/lib/python3.8/dist-packages (from matplotlib>=3.0.2->pingouin) (0.11.0)\n",
            "Requirement already satisfied: kiwisolver>=1.0.1 in /usr/local/lib/python3.8/dist-packages (from matplotlib>=3.0.2->pingouin) (1.4.4)\n",
            "Requirement already satisfied: python-dateutil>=2.1 in /usr/local/lib/python3.8/dist-packages (from matplotlib>=3.0.2->pingouin) (2.8.2)\n",
            "Requirement already satisfied: pytz>=2017.3 in /usr/local/lib/python3.8/dist-packages (from pandas>=1.0->pingouin) (2022.7)\n",
            "Requirement already satisfied: lazy-loader==0.1rc2 in /usr/local/lib/python3.8/dist-packages (from pandas-flavor>=0.2.0->pingouin) (0.1rc2)\n",
            "Requirement already satisfied: xarray in /usr/local/lib/python3.8/dist-packages (from pandas-flavor>=0.2.0->pingouin) (2022.12.0)\n",
            "Requirement already satisfied: patsy>=0.5.2 in /usr/local/lib/python3.8/dist-packages (from statsmodels>=0.13->pingouin) (0.5.3)\n",
            "Requirement already satisfied: packaging>=21.3 in /usr/local/lib/python3.8/dist-packages (from statsmodels>=0.13->pingouin) (21.3)\n",
            "Requirement already satisfied: requests in /usr/local/lib/python3.8/dist-packages (from outdated->pingouin) (2.25.1)\n",
            "Requirement already satisfied: littleutils in /usr/local/lib/python3.8/dist-packages (from outdated->pingouin) (0.2.2)\n",
            "Requirement already satisfied: setuptools>=44 in /usr/local/lib/python3.8/dist-packages (from outdated->pingouin) (57.4.0)\n",
            "Requirement already satisfied: threadpoolctl>=2.0.0 in /usr/local/lib/python3.8/dist-packages (from scikit-learn->pingouin) (3.1.0)\n",
            "Requirement already satisfied: joblib>=0.11 in /usr/local/lib/python3.8/dist-packages (from scikit-learn->pingouin) (1.2.0)\n",
            "Requirement already satisfied: six in /usr/local/lib/python3.8/dist-packages (from patsy>=0.5.2->statsmodels>=0.13->pingouin) (1.15.0)\n",
            "Requirement already satisfied: idna<3,>=2.5 in /usr/local/lib/python3.8/dist-packages (from requests->outdated->pingouin) (2.10)\n",
            "Requirement already satisfied: certifi>=2017.4.17 in /usr/local/lib/python3.8/dist-packages (from requests->outdated->pingouin) (2022.12.7)\n",
            "Requirement already satisfied: urllib3<1.27,>=1.21.1 in /usr/local/lib/python3.8/dist-packages (from requests->outdated->pingouin) (1.24.3)\n",
            "Requirement already satisfied: chardet<5,>=3.0.2 in /usr/local/lib/python3.8/dist-packages (from requests->outdated->pingouin) (4.0.0)\n"
          ]
        }
      ]
    },
    {
      "cell_type": "code",
      "source": [
        "# Importação da biblioteca\n",
        "import pingouin as pg"
      ],
      "metadata": {
        "id": "j_9Irih4z5eM"
      },
      "execution_count": 45,
      "outputs": []
    },
    {
      "cell_type": "markdown",
      "source": [
        "## Comando para aplicação do teste t com **pingouin**\n",
        "\n",
        "`pingouin.ttest(x, y, paired=False, alternative='two-sided', correction='auto', r=0.707, confidence=0.95)`\n",
        "\n",
        "Em que:\n",
        "*   `x,y` são os dados amostrais. Para realizar o teste t de uma amostra, basta informar a média populacional no lugar de y.\n",
        "*   `paired` False para teste de amostras independentes (padrão) e True para amostras pareadas.\n",
        "*   `alternative` two-sided para testes bilaterais e greater ou less para testes unilaterais.\n",
        "*   `confidence` é o nível de confiança, por padrão 95%. Ou seja, é o complemento do nível de significância.\n"
      ],
      "metadata": {
        "id": "vOES2oz81qNM"
      }
    },
    {
      "cell_type": "code",
      "source": [
        "# Mostra os valores das amostras\n",
        "print('Notas Grupo 1')\n",
        "print(X1_sample)\n",
        "print('Notas Grupo 2')\n",
        "print(X2_sample)"
      ],
      "metadata": {
        "colab": {
          "base_uri": "https://localhost:8080/"
        },
        "id": "tolIaNtnGFUv",
        "outputId": "30131271-969a-4735-9df4-574a4ba424d3"
      },
      "execution_count": 48,
      "outputs": [
        {
          "output_type": "stream",
          "name": "stdout",
          "text": [
            "Notas Grupo 1\n",
            "[10  3  2 10  5 10 10  7  0  5  3  0  3  1  7 10  0  3  3  0 10  3  3  0\n",
            "  3  8 10  5  3  0  7  0  3  4  3  7  4  4  8 10  3  0  6  3  0  0  4  0\n",
            "  1  7  4  0  2 10  0  5  5  7  5  7  7  5  1  7  3  7  5  0  9  4 10  0\n",
            "  0  7  0  4  7  4  1  7  0  3  2  4  3  8  7  7  0  5  7 10  6  3  3  5\n",
            "  7  3  7  4]\n",
            "Notas Grupo 2\n",
            "[ 9  8 10  3  9 10  7  0  0  5  6  6  8  8  9  4  8  5  8  7  8  5  8 10\n",
            "  8  3  1  8  4  4 10  9  9  4  8  8  3  8 10  0  3  4  9  6  0  4  9  8\n",
            "  3  8  4  3 10  3  8 10  8  6  5  0  1  6 10  3 10  9  3  4  6  9  8  9\n",
            "  6  7  6  3  8  7  9 10  7  8  5  8 10 10  3 10  0  0  3  4 10 10  8  8\n",
            " 10  7  3  3]\n"
          ]
        }
      ]
    },
    {
      "cell_type": "code",
      "source": [
        "# Aplicação do teste t para duas amostras independentes\n",
        "pg.ttest(X1_sample, X2_sample)"
      ],
      "metadata": {
        "colab": {
          "base_uri": "https://localhost:8080/",
          "height": 81
        },
        "id": "ZTEXjLFV0D8U",
        "outputId": "094dea4f-18e7-43d0-e655-e1a8c7c7c78f"
      },
      "execution_count": 49,
      "outputs": [
        {
          "output_type": "execute_result",
          "data": {
            "text/plain": [
              "               T  dof alternative    p-val           CI95%   cohen-d     BF10  \\\n",
              "T-test -4.366006  198   two-sided  0.00002  [-2.79, -1.05]  0.617447  860.801   \n",
              "\n",
              "           power  \n",
              "T-test  0.991455  "
            ],
            "text/html": [
              "\n",
              "  <div id=\"df-c60056bc-edc9-4bdf-8c88-f98da83215ba\">\n",
              "    <div class=\"colab-df-container\">\n",
              "      <div>\n",
              "<style scoped>\n",
              "    .dataframe tbody tr th:only-of-type {\n",
              "        vertical-align: middle;\n",
              "    }\n",
              "\n",
              "    .dataframe tbody tr th {\n",
              "        vertical-align: top;\n",
              "    }\n",
              "\n",
              "    .dataframe thead th {\n",
              "        text-align: right;\n",
              "    }\n",
              "</style>\n",
              "<table border=\"1\" class=\"dataframe\">\n",
              "  <thead>\n",
              "    <tr style=\"text-align: right;\">\n",
              "      <th></th>\n",
              "      <th>T</th>\n",
              "      <th>dof</th>\n",
              "      <th>alternative</th>\n",
              "      <th>p-val</th>\n",
              "      <th>CI95%</th>\n",
              "      <th>cohen-d</th>\n",
              "      <th>BF10</th>\n",
              "      <th>power</th>\n",
              "    </tr>\n",
              "  </thead>\n",
              "  <tbody>\n",
              "    <tr>\n",
              "      <th>T-test</th>\n",
              "      <td>-4.366006</td>\n",
              "      <td>198</td>\n",
              "      <td>two-sided</td>\n",
              "      <td>0.00002</td>\n",
              "      <td>[-2.79, -1.05]</td>\n",
              "      <td>0.617447</td>\n",
              "      <td>860.801</td>\n",
              "      <td>0.991455</td>\n",
              "    </tr>\n",
              "  </tbody>\n",
              "</table>\n",
              "</div>\n",
              "      <button class=\"colab-df-convert\" onclick=\"convertToInteractive('df-c60056bc-edc9-4bdf-8c88-f98da83215ba')\"\n",
              "              title=\"Convert this dataframe to an interactive table.\"\n",
              "              style=\"display:none;\">\n",
              "        \n",
              "  <svg xmlns=\"http://www.w3.org/2000/svg\" height=\"24px\"viewBox=\"0 0 24 24\"\n",
              "       width=\"24px\">\n",
              "    <path d=\"M0 0h24v24H0V0z\" fill=\"none\"/>\n",
              "    <path d=\"M18.56 5.44l.94 2.06.94-2.06 2.06-.94-2.06-.94-.94-2.06-.94 2.06-2.06.94zm-11 1L8.5 8.5l.94-2.06 2.06-.94-2.06-.94L8.5 2.5l-.94 2.06-2.06.94zm10 10l.94 2.06.94-2.06 2.06-.94-2.06-.94-.94-2.06-.94 2.06-2.06.94z\"/><path d=\"M17.41 7.96l-1.37-1.37c-.4-.4-.92-.59-1.43-.59-.52 0-1.04.2-1.43.59L10.3 9.45l-7.72 7.72c-.78.78-.78 2.05 0 2.83L4 21.41c.39.39.9.59 1.41.59.51 0 1.02-.2 1.41-.59l7.78-7.78 2.81-2.81c.8-.78.8-2.07 0-2.86zM5.41 20L4 18.59l7.72-7.72 1.47 1.35L5.41 20z\"/>\n",
              "  </svg>\n",
              "      </button>\n",
              "      \n",
              "  <style>\n",
              "    .colab-df-container {\n",
              "      display:flex;\n",
              "      flex-wrap:wrap;\n",
              "      gap: 12px;\n",
              "    }\n",
              "\n",
              "    .colab-df-convert {\n",
              "      background-color: #E8F0FE;\n",
              "      border: none;\n",
              "      border-radius: 50%;\n",
              "      cursor: pointer;\n",
              "      display: none;\n",
              "      fill: #1967D2;\n",
              "      height: 32px;\n",
              "      padding: 0 0 0 0;\n",
              "      width: 32px;\n",
              "    }\n",
              "\n",
              "    .colab-df-convert:hover {\n",
              "      background-color: #E2EBFA;\n",
              "      box-shadow: 0px 1px 2px rgba(60, 64, 67, 0.3), 0px 1px 3px 1px rgba(60, 64, 67, 0.15);\n",
              "      fill: #174EA6;\n",
              "    }\n",
              "\n",
              "    [theme=dark] .colab-df-convert {\n",
              "      background-color: #3B4455;\n",
              "      fill: #D2E3FC;\n",
              "    }\n",
              "\n",
              "    [theme=dark] .colab-df-convert:hover {\n",
              "      background-color: #434B5C;\n",
              "      box-shadow: 0px 1px 3px 1px rgba(0, 0, 0, 0.15);\n",
              "      filter: drop-shadow(0px 1px 2px rgba(0, 0, 0, 0.3));\n",
              "      fill: #FFFFFF;\n",
              "    }\n",
              "  </style>\n",
              "\n",
              "      <script>\n",
              "        const buttonEl =\n",
              "          document.querySelector('#df-c60056bc-edc9-4bdf-8c88-f98da83215ba button.colab-df-convert');\n",
              "        buttonEl.style.display =\n",
              "          google.colab.kernel.accessAllowed ? 'block' : 'none';\n",
              "\n",
              "        async function convertToInteractive(key) {\n",
              "          const element = document.querySelector('#df-c60056bc-edc9-4bdf-8c88-f98da83215ba');\n",
              "          const dataTable =\n",
              "            await google.colab.kernel.invokeFunction('convertToInteractive',\n",
              "                                                     [key], {});\n",
              "          if (!dataTable) return;\n",
              "\n",
              "          const docLinkHtml = 'Like what you see? Visit the ' +\n",
              "            '<a target=\"_blank\" href=https://colab.research.google.com/notebooks/data_table.ipynb>data table notebook</a>'\n",
              "            + ' to learn more about interactive tables.';\n",
              "          element.innerHTML = '';\n",
              "          dataTable['output_type'] = 'display_data';\n",
              "          await google.colab.output.renderOutput(dataTable, element);\n",
              "          const docLink = document.createElement('div');\n",
              "          docLink.innerHTML = docLinkHtml;\n",
              "          element.appendChild(docLink);\n",
              "        }\n",
              "      </script>\n",
              "    </div>\n",
              "  </div>\n",
              "  "
            ]
          },
          "metadata": {},
          "execution_count": 49
        }
      ]
    },
    {
      "cell_type": "code",
      "source": [],
      "metadata": {
        "id": "Zx4zEOE_GmS-"
      },
      "execution_count": null,
      "outputs": []
    }
  ]
}